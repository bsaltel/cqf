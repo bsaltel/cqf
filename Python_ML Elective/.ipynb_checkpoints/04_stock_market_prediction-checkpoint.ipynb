{
 "cells": [
  {
   "cell_type": "markdown",
   "metadata": {},
   "source": [
    "<img src=\"http://hilpisch.com/tpq_logo.png\" width=350px align=\"right\">"
   ]
  },
  {
   "cell_type": "markdown",
   "metadata": {},
   "source": [
    "# Stock Market Prediction [ML Elective for CQF]"
   ]
  },
  {
   "cell_type": "markdown",
   "metadata": {},
   "source": [
    "&copy; Dr. Yves J. Hilpisch\n",
    "\n",
    "The Python Quants GmbH"
   ]
  },
  {
   "cell_type": "code",
   "execution_count": 1,
   "metadata": {
    "collapsed": true
   },
   "outputs": [],
   "source": [
    "import numpy as np\n",
    "import pandas as pd\n",
    "from pylab import plt\n",
    "plt.style.use('seaborn')\n",
    "%matplotlib inline\n",
    "from pandas_datareader import data as web"
   ]
  },
  {
   "cell_type": "markdown",
   "metadata": {},
   "source": [
    "## Getting Historical Data"
   ]
  },
  {
   "cell_type": "code",
   "execution_count": 2,
   "metadata": {
    "collapsed": true
   },
   "outputs": [],
   "source": [
    "data = pd.DataFrame(web.DataReader('AMZN', data_source='google')['Close'])"
   ]
  },
  {
   "cell_type": "code",
   "execution_count": 3,
   "metadata": {
    "collapsed": true
   },
   "outputs": [],
   "source": [
    "data.columns = ['prices']"
   ]
  },
  {
   "cell_type": "code",
   "execution_count": 4,
   "metadata": {},
   "outputs": [
    {
     "name": "stdout",
     "output_type": "stream",
     "text": [
      "<class 'pandas.core.frame.DataFrame'>\n",
      "DatetimeIndex: 1858 entries, 2010-01-04 to 2017-05-22\n",
      "Data columns (total 1 columns):\n",
      "prices    1858 non-null float64\n",
      "dtypes: float64(1)\n",
      "memory usage: 29.0 KB\n"
     ]
    }
   ],
   "source": [
    "data.info()"
   ]
  },
  {
   "cell_type": "code",
   "execution_count": 5,
   "metadata": {
    "collapsed": true
   },
   "outputs": [],
   "source": [
    "# !conda install -y pandas-datareader"
   ]
  },
  {
   "cell_type": "code",
   "execution_count": 6,
   "metadata": {
    "collapsed": true
   },
   "outputs": [],
   "source": [
    "# !conda install -y pandas=0.19"
   ]
  },
  {
   "cell_type": "code",
   "execution_count": 7,
   "metadata": {},
   "outputs": [
    {
     "data": {
      "text/plain": [
       "'0.19.2'"
      ]
     },
     "execution_count": 7,
     "metadata": {},
     "output_type": "execute_result"
    }
   ],
   "source": [
    "pd.__version__"
   ]
  },
  {
   "cell_type": "code",
   "execution_count": 8,
   "metadata": {},
   "outputs": [
    {
     "data": {
      "image/png": "[encoded data removed]",
      "text/plain": [
       "<matplotlib.figure.Figure at 0x10af72668>"
      ]
     },
     "metadata": {},
     "output_type": "display_data"
    }
   ],
   "source": [
    "data.plot(figsize=(10, 6));"
   ]
  },
  {
   "cell_type": "code",
   "execution_count": 9,
   "metadata": {
    "collapsed": true
   },
   "outputs": [],
   "source": [
    "data['returns'] = np.log(data / data.shift(1))"
   ]
  },
  {
   "cell_type": "code",
   "execution_count": 10,
   "metadata": {},
   "outputs": [
    {
     "data": {
      "text/html": [
       "<div>\n",
       "<table border=\"1\" class=\"dataframe\">\n",
       "  <thead>\n",
       "    <tr style=\"text-align: right;\">\n",
       "      <th></th>\n",
       "      <th>prices</th>\n",
       "      <th>returns</th>\n",
       "    </tr>\n",
       "    <tr>\n",
       "      <th>Date</th>\n",
       "      <th></th>\n",
       "      <th></th>\n",
       "    </tr>\n",
       "  </thead>\n",
       "  <tbody>\n",
       "    <tr>\n",
       "      <th>2010-01-04</th>\n",
       "      <td>133.90</td>\n",
       "      <td>NaN</td>\n",
       "    </tr>\n",
       "    <tr>\n",
       "      <th>2010-01-05</th>\n",
       "      <td>134.69</td>\n",
       "      <td>0.005883</td>\n",
       "    </tr>\n",
       "    <tr>\n",
       "      <th>2010-01-06</th>\n",
       "      <td>132.25</td>\n",
       "      <td>-0.018282</td>\n",
       "    </tr>\n",
       "    <tr>\n",
       "      <th>2010-01-07</th>\n",
       "      <td>130.00</td>\n",
       "      <td>-0.017160</td>\n",
       "    </tr>\n",
       "    <tr>\n",
       "      <th>2010-01-08</th>\n",
       "      <td>133.52</td>\n",
       "      <td>0.026717</td>\n",
       "    </tr>\n",
       "  </tbody>\n",
       "</table>\n",
       "</div>"
      ],
      "text/plain": [
       "            prices   returns\n",
       "Date                        \n",
       "2010-01-04  133.90       NaN\n",
       "2010-01-05  134.69  0.005883\n",
       "2010-01-06  132.25 -0.018282\n",
       "2010-01-07  130.00 -0.017160\n",
       "2010-01-08  133.52  0.026717"
      ]
     },
     "execution_count": 10,
     "metadata": {},
     "output_type": "execute_result"
    }
   ],
   "source": [
    "data.head()"
   ]
  },
  {
   "cell_type": "code",
   "execution_count": 11,
   "metadata": {
    "collapsed": true
   },
   "outputs": [],
   "source": [
    "lags = 5"
   ]
  },
  {
   "cell_type": "code",
   "execution_count": 12,
   "metadata": {
    "collapsed": true
   },
   "outputs": [],
   "source": [
    "cols = []"
   ]
  },
  {
   "cell_type": "code",
   "execution_count": 13,
   "metadata": {
    "collapsed": true
   },
   "outputs": [],
   "source": [
    "for lag in range(1, lags+1):\n",
    "    col = 'ret_%d' % lag\n",
    "    data[col] = data['returns'].shift(lag)\n",
    "    cols.append(col)"
   ]
  },
  {
   "cell_type": "code",
   "execution_count": 14,
   "metadata": {},
   "outputs": [
    {
     "data": {
      "text/html": [
       "<div>\n",
       "<table border=\"1\" class=\"dataframe\">\n",
       "  <thead>\n",
       "    <tr style=\"text-align: right;\">\n",
       "      <th></th>\n",
       "      <th>prices</th>\n",
       "      <th>returns</th>\n",
       "      <th>ret_1</th>\n",
       "      <th>ret_2</th>\n",
       "      <th>ret_3</th>\n",
       "      <th>ret_4</th>\n",
       "      <th>ret_5</th>\n",
       "    </tr>\n",
       "    <tr>\n",
       "      <th>Date</th>\n",
       "      <th></th>\n",
       "      <th></th>\n",
       "      <th></th>\n",
       "      <th></th>\n",
       "      <th></th>\n",
       "      <th></th>\n",
       "      <th></th>\n",
       "    </tr>\n",
       "  </thead>\n",
       "  <tbody>\n",
       "    <tr>\n",
       "      <th>2010-01-04</th>\n",
       "      <td>133.90</td>\n",
       "      <td>NaN</td>\n",
       "      <td>NaN</td>\n",
       "      <td>NaN</td>\n",
       "      <td>NaN</td>\n",
       "      <td>NaN</td>\n",
       "      <td>NaN</td>\n",
       "    </tr>\n",
       "    <tr>\n",
       "      <th>2010-01-05</th>\n",
       "      <td>134.69</td>\n",
       "      <td>0.005883</td>\n",
       "      <td>NaN</td>\n",
       "      <td>NaN</td>\n",
       "      <td>NaN</td>\n",
       "      <td>NaN</td>\n",
       "      <td>NaN</td>\n",
       "    </tr>\n",
       "    <tr>\n",
       "      <th>2010-01-06</th>\n",
       "      <td>132.25</td>\n",
       "      <td>-0.018282</td>\n",
       "      <td>0.005883</td>\n",
       "      <td>NaN</td>\n",
       "      <td>NaN</td>\n",
       "      <td>NaN</td>\n",
       "      <td>NaN</td>\n",
       "    </tr>\n",
       "    <tr>\n",
       "      <th>2010-01-07</th>\n",
       "      <td>130.00</td>\n",
       "      <td>-0.017160</td>\n",
       "      <td>-0.018282</td>\n",
       "      <td>0.005883</td>\n",
       "      <td>NaN</td>\n",
       "      <td>NaN</td>\n",
       "      <td>NaN</td>\n",
       "    </tr>\n",
       "    <tr>\n",
       "      <th>2010-01-08</th>\n",
       "      <td>133.52</td>\n",
       "      <td>0.026717</td>\n",
       "      <td>-0.017160</td>\n",
       "      <td>-0.018282</td>\n",
       "      <td>0.005883</td>\n",
       "      <td>NaN</td>\n",
       "      <td>NaN</td>\n",
       "    </tr>\n",
       "    <tr>\n",
       "      <th>2010-01-11</th>\n",
       "      <td>130.31</td>\n",
       "      <td>-0.024335</td>\n",
       "      <td>0.026717</td>\n",
       "      <td>-0.017160</td>\n",
       "      <td>-0.018282</td>\n",
       "      <td>0.005883</td>\n",
       "      <td>NaN</td>\n",
       "    </tr>\n",
       "    <tr>\n",
       "      <th>2010-01-12</th>\n",
       "      <td>127.35</td>\n",
       "      <td>-0.022977</td>\n",
       "      <td>-0.024335</td>\n",
       "      <td>0.026717</td>\n",
       "      <td>-0.017160</td>\n",
       "      <td>-0.018282</td>\n",
       "      <td>0.005883</td>\n",
       "    </tr>\n",
       "    <tr>\n",
       "      <th>2010-01-13</th>\n",
       "      <td>129.11</td>\n",
       "      <td>0.013726</td>\n",
       "      <td>-0.022977</td>\n",
       "      <td>-0.024335</td>\n",
       "      <td>0.026717</td>\n",
       "      <td>-0.017160</td>\n",
       "      <td>-0.018282</td>\n",
       "    </tr>\n",
       "    <tr>\n",
       "      <th>2010-01-14</th>\n",
       "      <td>127.35</td>\n",
       "      <td>-0.013726</td>\n",
       "      <td>0.013726</td>\n",
       "      <td>-0.022977</td>\n",
       "      <td>-0.024335</td>\n",
       "      <td>0.026717</td>\n",
       "      <td>-0.017160</td>\n",
       "    </tr>\n",
       "    <tr>\n",
       "      <th>2010-01-15</th>\n",
       "      <td>127.14</td>\n",
       "      <td>-0.001650</td>\n",
       "      <td>-0.013726</td>\n",
       "      <td>0.013726</td>\n",
       "      <td>-0.022977</td>\n",
       "      <td>-0.024335</td>\n",
       "      <td>0.026717</td>\n",
       "    </tr>\n",
       "  </tbody>\n",
       "</table>\n",
       "</div>"
      ],
      "text/plain": [
       "            prices   returns     ret_1     ret_2     ret_3     ret_4     ret_5\n",
       "Date                                                                          \n",
       "2010-01-04  133.90       NaN       NaN       NaN       NaN       NaN       NaN\n",
       "2010-01-05  134.69  0.005883       NaN       NaN       NaN       NaN       NaN\n",
       "2010-01-06  132.25 -0.018282  0.005883       NaN       NaN       NaN       NaN\n",
       "2010-01-07  130.00 -0.017160 -0.018282  0.005883       NaN       NaN       NaN\n",
       "2010-01-08  133.52  0.026717 -0.017160 -0.018282  0.005883       NaN       NaN\n",
       "2010-01-11  130.31 -0.024335  0.026717 -0.017160 -0.018282  0.005883       NaN\n",
       "2010-01-12  127.35 -0.022977 -0.024335  0.026717 -0.017160 -0.018282  0.005883\n",
       "2010-01-13  129.11  0.013726 -0.022977 -0.024335  0.026717 -0.017160 -0.018282\n",
       "2010-01-14  127.35 -0.013726  0.013726 -0.022977 -0.024335  0.026717 -0.017160\n",
       "2010-01-15  127.14 -0.001650 -0.013726  0.013726 -0.022977 -0.024335  0.026717"
      ]
     },
     "execution_count": 14,
     "metadata": {},
     "output_type": "execute_result"
    }
   ],
   "source": [
    "data.head(10)"
   ]
  },
  {
   "cell_type": "code",
   "execution_count": 15,
   "metadata": {
    "collapsed": true
   },
   "outputs": [],
   "source": [
    "data.dropna(inplace=True)"
   ]
  },
  {
   "cell_type": "code",
   "execution_count": 16,
   "metadata": {},
   "outputs": [
    {
     "data": {
      "text/html": [
       "<div>\n",
       "<table border=\"1\" class=\"dataframe\">\n",
       "  <thead>\n",
       "    <tr style=\"text-align: right;\">\n",
       "      <th></th>\n",
       "      <th>prices</th>\n",
       "      <th>returns</th>\n",
       "      <th>ret_1</th>\n",
       "      <th>ret_2</th>\n",
       "      <th>ret_3</th>\n",
       "      <th>ret_4</th>\n",
       "      <th>ret_5</th>\n",
       "    </tr>\n",
       "    <tr>\n",
       "      <th>Date</th>\n",
       "      <th></th>\n",
       "      <th></th>\n",
       "      <th></th>\n",
       "      <th></th>\n",
       "      <th></th>\n",
       "      <th></th>\n",
       "      <th></th>\n",
       "    </tr>\n",
       "  </thead>\n",
       "  <tbody>\n",
       "    <tr>\n",
       "      <th>2010-01-12</th>\n",
       "      <td>127.35</td>\n",
       "      <td>-0.022977</td>\n",
       "      <td>-0.024335</td>\n",
       "      <td>0.026717</td>\n",
       "      <td>-0.017160</td>\n",
       "      <td>-0.018282</td>\n",
       "      <td>0.005883</td>\n",
       "    </tr>\n",
       "    <tr>\n",
       "      <th>2010-01-13</th>\n",
       "      <td>129.11</td>\n",
       "      <td>0.013726</td>\n",
       "      <td>-0.022977</td>\n",
       "      <td>-0.024335</td>\n",
       "      <td>0.026717</td>\n",
       "      <td>-0.017160</td>\n",
       "      <td>-0.018282</td>\n",
       "    </tr>\n",
       "    <tr>\n",
       "      <th>2010-01-14</th>\n",
       "      <td>127.35</td>\n",
       "      <td>-0.013726</td>\n",
       "      <td>0.013726</td>\n",
       "      <td>-0.022977</td>\n",
       "      <td>-0.024335</td>\n",
       "      <td>0.026717</td>\n",
       "      <td>-0.017160</td>\n",
       "    </tr>\n",
       "    <tr>\n",
       "      <th>2010-01-15</th>\n",
       "      <td>127.14</td>\n",
       "      <td>-0.001650</td>\n",
       "      <td>-0.013726</td>\n",
       "      <td>0.013726</td>\n",
       "      <td>-0.022977</td>\n",
       "      <td>-0.024335</td>\n",
       "      <td>0.026717</td>\n",
       "    </tr>\n",
       "    <tr>\n",
       "      <th>2010-01-19</th>\n",
       "      <td>127.61</td>\n",
       "      <td>0.003690</td>\n",
       "      <td>-0.001650</td>\n",
       "      <td>-0.013726</td>\n",
       "      <td>0.013726</td>\n",
       "      <td>-0.022977</td>\n",
       "      <td>-0.024335</td>\n",
       "    </tr>\n",
       "  </tbody>\n",
       "</table>\n",
       "</div>"
      ],
      "text/plain": [
       "            prices   returns     ret_1     ret_2     ret_3     ret_4     ret_5\n",
       "Date                                                                          \n",
       "2010-01-12  127.35 -0.022977 -0.024335  0.026717 -0.017160 -0.018282  0.005883\n",
       "2010-01-13  129.11  0.013726 -0.022977 -0.024335  0.026717 -0.017160 -0.018282\n",
       "2010-01-14  127.35 -0.013726  0.013726 -0.022977 -0.024335  0.026717 -0.017160\n",
       "2010-01-15  127.14 -0.001650 -0.013726  0.013726 -0.022977 -0.024335  0.026717\n",
       "2010-01-19  127.61  0.003690 -0.001650 -0.013726  0.013726 -0.022977 -0.024335"
      ]
     },
     "execution_count": 16,
     "metadata": {},
     "output_type": "execute_result"
    }
   ],
   "source": [
    "data.head()"
   ]
  },
  {
   "cell_type": "markdown",
   "metadata": {},
   "source": [
    "## OLS Regression"
   ]
  },
  {
   "cell_type": "code",
   "execution_count": 17,
   "metadata": {
    "collapsed": true
   },
   "outputs": [],
   "source": [
    "reg = np.linalg.lstsq(data[cols].values, np.sign(data['returns'].values))[0]"
   ]
  },
  {
   "cell_type": "code",
   "execution_count": 18,
   "metadata": {},
   "outputs": [
    {
     "data": {
      "text/plain": [
       "array([-1.16886579, -0.96206944, -0.05028051, -1.33774549,  0.81681303])"
      ]
     },
     "execution_count": 18,
     "metadata": {},
     "output_type": "execute_result"
    }
   ],
   "source": [
    "reg"
   ]
  },
  {
   "cell_type": "code",
   "execution_count": 19,
   "metadata": {
    "collapsed": true
   },
   "outputs": [],
   "source": [
    "pred = np.sign(np.dot(data[cols].values, reg))"
   ]
  },
  {
   "cell_type": "code",
   "execution_count": 20,
   "metadata": {},
   "outputs": [
    {
     "data": {
      "text/plain": [
       "array([ 1.,  1., -1., ..., -1.,  1., -1.])"
      ]
     },
     "execution_count": 20,
     "metadata": {},
     "output_type": "execute_result"
    }
   ],
   "source": [
    "pred"
   ]
  },
  {
   "cell_type": "code",
   "execution_count": 21,
   "metadata": {},
   "outputs": [
    {
     "data": {
      "text/plain": [
       "array([-1.,  1., -1., ...,  1.,  1.,  1.])"
      ]
     },
     "execution_count": 21,
     "metadata": {},
     "output_type": "execute_result"
    }
   ],
   "source": [
    "np.sign(data['returns'].values)"
   ]
  },
  {
   "cell_type": "code",
   "execution_count": 22,
   "metadata": {
    "collapsed": true
   },
   "outputs": [],
   "source": [
    "data['ols_pred'] = pred"
   ]
  },
  {
   "cell_type": "code",
   "execution_count": 23,
   "metadata": {
    "collapsed": true
   },
   "outputs": [],
   "source": [
    "c = np.sign(data['returns'] * data['ols_pred'])"
   ]
  },
  {
   "cell_type": "code",
   "execution_count": 24,
   "metadata": {},
   "outputs": [
    {
     "data": {
      "text/plain": [
       " 1.0    941\n",
       "-1.0    906\n",
       " 0.0      5\n",
       "dtype: int64"
      ]
     },
     "execution_count": 24,
     "metadata": {},
     "output_type": "execute_result"
    }
   ],
   "source": [
    "c.value_counts()"
   ]
  },
  {
   "cell_type": "code",
   "execution_count": 25,
   "metadata": {},
   "outputs": [
    {
     "data": {
      "text/plain": [
       "0.50809935205183587"
      ]
     },
     "execution_count": 25,
     "metadata": {},
     "output_type": "execute_result"
    }
   ],
   "source": [
    "c.value_counts()[1] / (c.value_counts().sum())"
   ]
  },
  {
   "cell_type": "code",
   "execution_count": 26,
   "metadata": {
    "collapsed": true
   },
   "outputs": [],
   "source": [
    "data['ols_returns'] = data['returns'] * data['ols_pred']"
   ]
  },
  {
   "cell_type": "code",
   "execution_count": 27,
   "metadata": {},
   "outputs": [
    {
     "data": {
      "image/png": "[encoded data removed]",
      "text/plain": [
       "<matplotlib.figure.Figure at 0x10b91f9e8>"
      ]
     },
     "metadata": {},
     "output_type": "display_data"
    }
   ],
   "source": [
    "data[['returns', 'ols_returns']].cumsum().apply(np.exp).plot(figsize=(10, 6));"
   ]
  },
  {
   "cell_type": "markdown",
   "metadata": {},
   "source": [
    "## Logistic Regression"
   ]
  },
  {
   "cell_type": "code",
   "execution_count": 28,
   "metadata": {
    "collapsed": true
   },
   "outputs": [],
   "source": [
    "from sklearn import linear_model"
   ]
  },
  {
   "cell_type": "code",
   "execution_count": 29,
   "metadata": {
    "collapsed": true
   },
   "outputs": [],
   "source": [
    "lm = linear_model.LogisticRegression(C = 1e6)"
   ]
  },
  {
   "cell_type": "code",
   "execution_count": 30,
   "metadata": {},
   "outputs": [
    {
     "data": {
      "text/plain": [
       "LogisticRegression(C=1000000.0, class_weight=None, dual=False,\n",
       "          fit_intercept=True, intercept_scaling=1, max_iter=100,\n",
       "          multi_class='ovr', n_jobs=1, penalty='l2', random_state=None,\n",
       "          solver='liblinear', tol=0.0001, verbose=0, warm_start=False)"
      ]
     },
     "execution_count": 30,
     "metadata": {},
     "output_type": "execute_result"
    }
   ],
   "source": [
    "lm.fit(data[cols], np.sign(data['returns']))"
   ]
  },
  {
   "cell_type": "code",
   "execution_count": 31,
   "metadata": {
    "collapsed": true
   },
   "outputs": [],
   "source": [
    "data['log_pred'] = lm.predict(data[cols])"
   ]
  },
  {
   "cell_type": "code",
   "execution_count": 32,
   "metadata": {},
   "outputs": [
    {
     "data": {
      "text/html": [
       "<div>\n",
       "<table border=\"1\" class=\"dataframe\">\n",
       "  <thead>\n",
       "    <tr style=\"text-align: right;\">\n",
       "      <th></th>\n",
       "      <th>prices</th>\n",
       "      <th>returns</th>\n",
       "      <th>ret_1</th>\n",
       "      <th>ret_2</th>\n",
       "      <th>ret_3</th>\n",
       "      <th>ret_4</th>\n",
       "      <th>ret_5</th>\n",
       "      <th>ols_pred</th>\n",
       "      <th>ols_returns</th>\n",
       "      <th>log_pred</th>\n",
       "    </tr>\n",
       "    <tr>\n",
       "      <th>Date</th>\n",
       "      <th></th>\n",
       "      <th></th>\n",
       "      <th></th>\n",
       "      <th></th>\n",
       "      <th></th>\n",
       "      <th></th>\n",
       "      <th></th>\n",
       "      <th></th>\n",
       "      <th></th>\n",
       "      <th></th>\n",
       "    </tr>\n",
       "  </thead>\n",
       "  <tbody>\n",
       "    <tr>\n",
       "      <th>2010-01-12</th>\n",
       "      <td>127.35</td>\n",
       "      <td>-0.022977</td>\n",
       "      <td>-0.024335</td>\n",
       "      <td>0.026717</td>\n",
       "      <td>-0.017160</td>\n",
       "      <td>-0.018282</td>\n",
       "      <td>0.005883</td>\n",
       "      <td>1.0</td>\n",
       "      <td>-0.022977</td>\n",
       "      <td>1.0</td>\n",
       "    </tr>\n",
       "    <tr>\n",
       "      <th>2010-01-13</th>\n",
       "      <td>129.11</td>\n",
       "      <td>0.013726</td>\n",
       "      <td>-0.022977</td>\n",
       "      <td>-0.024335</td>\n",
       "      <td>0.026717</td>\n",
       "      <td>-0.017160</td>\n",
       "      <td>-0.018282</td>\n",
       "      <td>1.0</td>\n",
       "      <td>0.013726</td>\n",
       "      <td>1.0</td>\n",
       "    </tr>\n",
       "    <tr>\n",
       "      <th>2010-01-14</th>\n",
       "      <td>127.35</td>\n",
       "      <td>-0.013726</td>\n",
       "      <td>0.013726</td>\n",
       "      <td>-0.022977</td>\n",
       "      <td>-0.024335</td>\n",
       "      <td>0.026717</td>\n",
       "      <td>-0.017160</td>\n",
       "      <td>-1.0</td>\n",
       "      <td>0.013726</td>\n",
       "      <td>1.0</td>\n",
       "    </tr>\n",
       "    <tr>\n",
       "      <th>2010-01-15</th>\n",
       "      <td>127.14</td>\n",
       "      <td>-0.001650</td>\n",
       "      <td>-0.013726</td>\n",
       "      <td>0.013726</td>\n",
       "      <td>-0.022977</td>\n",
       "      <td>-0.024335</td>\n",
       "      <td>0.026717</td>\n",
       "      <td>1.0</td>\n",
       "      <td>-0.001650</td>\n",
       "      <td>1.0</td>\n",
       "    </tr>\n",
       "    <tr>\n",
       "      <th>2010-01-19</th>\n",
       "      <td>127.61</td>\n",
       "      <td>0.003690</td>\n",
       "      <td>-0.001650</td>\n",
       "      <td>-0.013726</td>\n",
       "      <td>0.013726</td>\n",
       "      <td>-0.022977</td>\n",
       "      <td>-0.024335</td>\n",
       "      <td>1.0</td>\n",
       "      <td>0.003690</td>\n",
       "      <td>1.0</td>\n",
       "    </tr>\n",
       "  </tbody>\n",
       "</table>\n",
       "</div>"
      ],
      "text/plain": [
       "            prices   returns     ret_1     ret_2     ret_3     ret_4  \\\n",
       "Date                                                                   \n",
       "2010-01-12  127.35 -0.022977 -0.024335  0.026717 -0.017160 -0.018282   \n",
       "2010-01-13  129.11  0.013726 -0.022977 -0.024335  0.026717 -0.017160   \n",
       "2010-01-14  127.35 -0.013726  0.013726 -0.022977 -0.024335  0.026717   \n",
       "2010-01-15  127.14 -0.001650 -0.013726  0.013726 -0.022977 -0.024335   \n",
       "2010-01-19  127.61  0.003690 -0.001650 -0.013726  0.013726 -0.022977   \n",
       "\n",
       "               ret_5  ols_pred  ols_returns  log_pred  \n",
       "Date                                                   \n",
       "2010-01-12  0.005883       1.0    -0.022977       1.0  \n",
       "2010-01-13 -0.018282       1.0     0.013726       1.0  \n",
       "2010-01-14 -0.017160      -1.0     0.013726       1.0  \n",
       "2010-01-15  0.026717       1.0    -0.001650       1.0  \n",
       "2010-01-19 -0.024335       1.0     0.003690       1.0  "
      ]
     },
     "execution_count": 32,
     "metadata": {},
     "output_type": "execute_result"
    }
   ],
   "source": [
    "data.head()"
   ]
  },
  {
   "cell_type": "code",
   "execution_count": 33,
   "metadata": {
    "collapsed": true
   },
   "outputs": [],
   "source": [
    "data['log_returns'] = data['returns'] * data['log_pred']"
   ]
  },
  {
   "cell_type": "code",
   "execution_count": 34,
   "metadata": {},
   "outputs": [
    {
     "data": {
      "image/png": "[encoded data removed]",
      "text/plain": [
       "<matplotlib.figure.Figure at 0x11100dcf8>"
      ]
     },
     "metadata": {},
     "output_type": "display_data"
    }
   ],
   "source": [
    "data[['returns', 'ols_returns', 'log_returns']].cumsum(\n",
    "        ).apply(np.exp).plot(figsize=(10, 6));"
   ]
  },
  {
   "cell_type": "markdown",
   "metadata": {},
   "source": [
    "## Deep Neural Network"
   ]
  },
  {
   "cell_type": "code",
   "execution_count": 35,
   "metadata": {
    "collapsed": true
   },
   "outputs": [],
   "source": [
    "import tensorflow as tf"
   ]
  },
  {
   "cell_type": "code",
   "execution_count": 36,
   "metadata": {
    "collapsed": true
   },
   "outputs": [],
   "source": [
    "tf.logging.set_verbosity(tf.logging.ERROR)"
   ]
  },
  {
   "cell_type": "code",
   "execution_count": 37,
   "metadata": {
    "collapsed": true
   },
   "outputs": [],
   "source": [
    "mean = data['returns'].mean()"
   ]
  },
  {
   "cell_type": "code",
   "execution_count": 38,
   "metadata": {
    "collapsed": true
   },
   "outputs": [],
   "source": [
    "std = data['returns'].std()"
   ]
  },
  {
   "cell_type": "code",
   "execution_count": 39,
   "metadata": {},
   "outputs": [
    {
     "name": "stdout",
     "output_type": "stream",
     "text": [
      "0.00108427123518 0.0199275076794\n"
     ]
    }
   ],
   "source": [
    "print(mean, std)"
   ]
  },
  {
   "cell_type": "code",
   "execution_count": 40,
   "metadata": {
    "collapsed": true
   },
   "outputs": [],
   "source": [
    "fc = tf.contrib.layers.real_valued_column('returns', dimension=lags)"
   ]
  },
  {
   "cell_type": "code",
   "execution_count": 41,
   "metadata": {
    "collapsed": true
   },
   "outputs": [],
   "source": [
    "fcb = [tf.contrib.layers.bucketized_column(fc,\n",
    "                    boundaries=[-0.0005, 0.0001, 0.0005])]"
   ]
  },
  {
   "cell_type": "code",
   "execution_count": 42,
   "metadata": {
    "collapsed": true
   },
   "outputs": [],
   "source": [
    "model = tf.contrib.learn.DNNClassifier(hidden_units=[50, 50],\n",
    "                                       feature_columns=fcb)"
   ]
  },
  {
   "cell_type": "code",
   "execution_count": 43,
   "metadata": {
    "collapsed": true
   },
   "outputs": [],
   "source": [
    "def get_data():\n",
    "    fc = {'returns': tf.constant(data[cols].values)}\n",
    "    la = tf.constant((data['returns'] > 0).astype(int).values,\n",
    "                     shape=[len(data), 1])\n",
    "    return fc, la"
   ]
  },
  {
   "cell_type": "code",
   "execution_count": 44,
   "metadata": {},
   "outputs": [
    {
     "data": {
      "text/plain": [
       "DNNClassifier(params={'head': <tensorflow.contrib.learn.python.learn.estimators.head._BinaryLogisticHead object at 0x1195dfeb8>, 'hidden_units': [50, 50], 'feature_columns': (_BucketizedColumn(source_column=_RealValuedColumn(column_name='returns', dimension=5, default_value=None, dtype=tf.float32, normalizer=None), boundaries=(-0.0005, 0.0001, 0.0005)),), 'optimizer': None, 'activation_fn': <function relu at 0x11803e378>, 'dropout': None, 'gradient_clip_norm': None, 'embedding_lr_multipliers': None, 'input_layer_min_slice_size': None})"
      ]
     },
     "execution_count": 44,
     "metadata": {},
     "output_type": "execute_result"
    }
   ],
   "source": [
    "model.fit(input_fn=get_data, steps=100)"
   ]
  },
  {
   "cell_type": "code",
   "execution_count": 45,
   "metadata": {},
   "outputs": [
    {
     "data": {
      "text/plain": [
       "{'accuracy': 0.54913604,\n",
       " 'accuracy/baseline_label_mean': 0.52429807,\n",
       " 'accuracy/threshold_0.500000_mean': 0.54913604,\n",
       " 'auc': 0.56181008,\n",
       " 'global_step': 100,\n",
       " 'labels/actual_label_mean': 0.52429807,\n",
       " 'labels/prediction_mean': 0.52496111,\n",
       " 'loss': 0.68702751,\n",
       " 'precision/positive_threshold_0.500000_mean': 0.54815865,\n",
       " 'recall/positive_threshold_0.500000_mean': 0.7971164}"
      ]
     },
     "execution_count": 45,
     "metadata": {},
     "output_type": "execute_result"
    }
   ],
   "source": [
    "model.evaluate(input_fn=get_data, steps=1)"
   ]
  },
  {
   "cell_type": "code",
   "execution_count": 46,
   "metadata": {
    "collapsed": true
   },
   "outputs": [],
   "source": [
    "data['dnn_pred'] = list(model.predict(input_fn=get_data))\n",
    "data['dnn_pred'] = np.where(data['dnn_pred'] > 0, 1.0, -1.0)"
   ]
  },
  {
   "cell_type": "code",
   "execution_count": 47,
   "metadata": {
    "collapsed": true
   },
   "outputs": [],
   "source": [
    "data['dnn_returns'] = data['returns'] * data['dnn_pred']"
   ]
  },
  {
   "cell_type": "code",
   "execution_count": 48,
   "metadata": {},
   "outputs": [
    {
     "data": {
      "image/png": "[encoded data removed]",
      "text/plain": [
       "<matplotlib.figure.Figure at 0x10bf11e80>"
      ]
     },
     "metadata": {},
     "output_type": "display_data"
    }
   ],
   "source": [
    "data[['returns', 'ols_returns', 'log_returns', 'dnn_returns']].cumsum(\n",
    "        ).apply(np.exp).plot(figsize=(10, 6));"
   ]
  },
  {
   "cell_type": "markdown",
   "metadata": {},
   "source": [
    "<img src=\"http://hilpisch.com/tpq_logo.png\" width=350px align=\"right\">"
   ]
  }
 ],
 "metadata": {
  "kernelspec": {
   "display_name": "Python 3",
   "language": "python",
   "name": "python3"
  },
  "language_info": {
   "codemirror_mode": {
    "name": "ipython",
    "version": 3
   },
   "file_extension": ".py",
   "mimetype": "text/x-python",
   "name": "python",
   "nbconvert_exporter": "python",
   "pygments_lexer": "ipython3",
   "version": "3.6.3"
  }
 },
 "nbformat": 4,
 "nbformat_minor": 2
}
