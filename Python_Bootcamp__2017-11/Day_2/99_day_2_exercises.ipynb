{
 "cells": [
  {
   "cell_type": "markdown",
   "metadata": {},
   "source": [
    "<img src='http://hilpisch.com/tpq_logo.png' width=\"300px\" align=\"right\">"
   ]
  },
  {
   "cell_type": "markdown",
   "metadata": {},
   "source": [
    "# Intermediate Python &mdash; Day 2"
   ]
  },
  {
   "cell_type": "markdown",
   "metadata": {},
   "source": [
    "**Exercises**"
   ]
  },
  {
   "cell_type": "markdown",
   "metadata": {},
   "source": [
    "## Module 3"
   ]
  },
  {
   "cell_type": "markdown",
   "metadata": {},
   "source": [
    "### Exercise 01"
   ]
  },
  {
   "cell_type": "markdown",
   "metadata": {},
   "source": [
    "Import with `pandas` the data from `http://hilpisch.com/Titanic.csv`.\n",
    "\n",
    "How many passangers have been on the Titanic?\n",
    "\n",
    "What is the percentage value of those who survived the tragedy?"
   ]
  },
  {
   "cell_type": "markdown",
   "metadata": {},
   "source": [
    "### Exercise  02"
   ]
  },
  {
   "cell_type": "markdown",
   "metadata": {},
   "source": [
    "Using `numpy`, create an `ndarray` object of shape `(20, 3)` with **standard normally distributed random numbers**.\n",
    "\n",
    "Store the data in a `pandas` `DataFrame` object using characters as column labels and numbers as index values.\n",
    "\n",
    "Calculate the mean of the values\n",
    "\n",
    "* by column\n",
    "* by row\n",
    "\n",
    "Calculate the cumulative sum per colum and plot the results.\n",
    "\n",
    "Select all those rows where at least one value is greater than 1.25 (use `.any()`).\n",
    "\n",
    "Select all those rows where all values are positive (use `.all()`)."
   ]
  },
  {
   "cell_type": "markdown",
   "metadata": {},
   "source": [
    "### Exercise 03"
   ]
  },
  {
   "cell_type": "markdown",
   "metadata": {},
   "source": [
    "Implement a Monte Carlo Simulation for the **geometric Brownian motion** with daily time steps.\n",
    "\n",
    "Store the simulated paths in a `pandas` `DataFrame` object with appropriate `DatetimeIndex`.\n",
    "\n",
    "Check whether the average of the final values $S_T^i$ is close to the expected value $e^{rT}S_0$.\n",
    "\n",
    "Plot 10 simulated paths.\n",
    "\n",
    "Plot the histrogram of the final values."
   ]
  },
  {
   "cell_type": "markdown",
   "metadata": {},
   "source": [
    "### Special Exercise"
   ]
  },
  {
   "cell_type": "markdown",
   "metadata": {},
   "source": [
    "Import with `pandas` the data from `http://hilpisch.com/btc_usd.csv`.\n",
    "\n",
    "Calculate the annualized Sharpe ratio in 2017 for the cryptocurrency."
   ]
  },
  {
   "cell_type": "markdown",
   "metadata": {},
   "source": [
    "### Exercise 04"
   ]
  },
  {
   "cell_type": "markdown",
   "metadata": {},
   "source": [
    "Import with `pandas` the data from `http://hilpisch.com/tr_eikon_eod_data.csv`.\n",
    "\n",
    "Select the **S&P 500** and the **VIX** data.\n",
    "\n",
    "Calculate the **log returns** for both time series.\n",
    "\n",
    "Plot the log returns for both time series in a **scatter plot**.\n",
    "\n",
    "Also plot a **regression line** through the log return points."
   ]
  },
  {
   "cell_type": "markdown",
   "metadata": {},
   "source": [
    "### Exercise 05"
   ]
  },
  {
   "cell_type": "markdown",
   "metadata": {},
   "source": [
    "Import with `pandas` the data from `http://hilpisch.com/tr_eikon_eod_data.csv`.\n",
    "\n",
    "Calculate the annualized mean log returns for the financial instruments.\n",
    "\n",
    "Calculate the annualized volatility for the financial instruments.\n",
    "\n",
    "Implement functions that calculate the\n",
    "\n",
    "* **annualized portfolio expected return** and\n",
    "* the **annualized portfolio volatility**\n",
    "\n",
    "for\n",
    "\n",
    "* a certain number of financial instruments $n>1$,\n",
    "* with portfolio weights adding up to 100% and\n",
    "* no short sales allowed."
   ]
  },
  {
   "cell_type": "markdown",
   "metadata": {},
   "source": [
    "<img src='http://hilpisch.com/tpq_logo.png' width=\"300px\" align=\"right\">"
   ]
  }
 ],
 "metadata": {
  "kernelspec": {
   "display_name": "Python 3",
   "language": "python",
   "name": "python3"
  },
  "language_info": {
   "codemirror_mode": {
    "name": "ipython",
    "version": 3
   },
   "file_extension": ".py",
   "mimetype": "text/x-python",
   "name": "python",
   "nbconvert_exporter": "python",
   "pygments_lexer": "ipython3",
   "version": "3.6.3"
  }
 },
 "nbformat": 4,
 "nbformat_minor": 2
}
