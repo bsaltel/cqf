{
 "cells": [
  {
   "cell_type": "markdown",
   "metadata": {},
   "source": [
    "<img src='http://hilpisch.com/tpq_logo.png' width=\"300px\" align=\"right\">"
   ]
  },
  {
   "cell_type": "markdown",
   "metadata": {},
   "source": [
    "# FPQ Bootcamp &mdash; Day 3"
   ]
  },
  {
   "cell_type": "markdown",
   "metadata": {},
   "source": [
    "**Financial Data & Data API**"
   ]
  },
  {
   "cell_type": "markdown",
   "metadata": {},
   "source": [
    "## Financial Data"
   ]
  },
  {
   "cell_type": "code",
   "execution_count": 1,
   "metadata": {},
   "outputs": [],
   "source": [
    "import numpy as np\n",
    "import pandas as pd\n",
    "from pylab import plt\n",
    "plt.style.use('seaborn')\n",
    "%matplotlib inline"
   ]
  },
  {
   "cell_type": "code",
   "execution_count": 2,
   "metadata": {},
   "outputs": [],
   "source": [
    "raw = pd.read_csv('http://hilpisch.com/tr_eikon_eod_data.csv',\n",
    "                 index_col=0, parse_dates=True)"
   ]
  },
  {
   "cell_type": "code",
   "execution_count": 3,
   "metadata": {},
   "outputs": [
    {
     "name": "stdout",
     "output_type": "stream",
     "text": [
      "<class 'pandas.core.frame.DataFrame'>\n",
      "DatetimeIndex: 1972 entries, 2010-01-04 to 2017-10-31\n",
      "Data columns (total 12 columns):\n",
      "AAPL.O    1972 non-null float64\n",
      "MSFT.O    1972 non-null float64\n",
      "INTC.O    1972 non-null float64\n",
      "AMZN.O    1972 non-null float64\n",
      "GS.N      1972 non-null float64\n",
      "SPY       1972 non-null float64\n",
      ".SPX      1972 non-null float64\n",
      ".VIX      1972 non-null float64\n",
      "EUR=      1972 non-null float64\n",
      "XAU=      1972 non-null float64\n",
      "GDX       1972 non-null float64\n",
      "GLD       1972 non-null float64\n",
      "dtypes: float64(12)\n",
      "memory usage: 200.3 KB\n"
     ]
    }
   ],
   "source": [
    "raw.info()"
   ]
  },
  {
   "cell_type": "code",
   "execution_count": 4,
   "metadata": {},
   "outputs": [
    {
     "data": {
      "text/html": [
       "<div>\n",
       "<style scoped>\n",
       "    .dataframe tbody tr th:only-of-type {\n",
       "        vertical-align: middle;\n",
       "    }\n",
       "\n",
       "    .dataframe tbody tr th {\n",
       "        vertical-align: top;\n",
       "    }\n",
       "\n",
       "    .dataframe thead th {\n",
       "        text-align: right;\n",
       "    }\n",
       "</style>\n",
       "<table border=\"1\" class=\"dataframe\">\n",
       "  <thead>\n",
       "    <tr style=\"text-align: right;\">\n",
       "      <th></th>\n",
       "      <th>AAPL.O</th>\n",
       "      <th>MSFT.O</th>\n",
       "      <th>INTC.O</th>\n",
       "      <th>AMZN.O</th>\n",
       "      <th>GS.N</th>\n",
       "      <th>SPY</th>\n",
       "      <th>.SPX</th>\n",
       "      <th>.VIX</th>\n",
       "      <th>EUR=</th>\n",
       "      <th>XAU=</th>\n",
       "      <th>GDX</th>\n",
       "      <th>GLD</th>\n",
       "    </tr>\n",
       "    <tr>\n",
       "      <th>Date</th>\n",
       "      <th></th>\n",
       "      <th></th>\n",
       "      <th></th>\n",
       "      <th></th>\n",
       "      <th></th>\n",
       "      <th></th>\n",
       "      <th></th>\n",
       "      <th></th>\n",
       "      <th></th>\n",
       "      <th></th>\n",
       "      <th></th>\n",
       "      <th></th>\n",
       "    </tr>\n",
       "  </thead>\n",
       "  <tbody>\n",
       "    <tr>\n",
       "      <th>2010-01-04</th>\n",
       "      <td>30.572827</td>\n",
       "      <td>30.950</td>\n",
       "      <td>20.88</td>\n",
       "      <td>133.90</td>\n",
       "      <td>173.08</td>\n",
       "      <td>113.33</td>\n",
       "      <td>1132.99</td>\n",
       "      <td>20.04</td>\n",
       "      <td>1.4411</td>\n",
       "      <td>1120.00</td>\n",
       "      <td>47.71</td>\n",
       "      <td>109.80</td>\n",
       "    </tr>\n",
       "    <tr>\n",
       "      <th>2010-01-05</th>\n",
       "      <td>30.625684</td>\n",
       "      <td>30.960</td>\n",
       "      <td>20.87</td>\n",
       "      <td>134.69</td>\n",
       "      <td>176.14</td>\n",
       "      <td>113.63</td>\n",
       "      <td>1136.52</td>\n",
       "      <td>19.35</td>\n",
       "      <td>1.4368</td>\n",
       "      <td>1118.65</td>\n",
       "      <td>48.17</td>\n",
       "      <td>109.70</td>\n",
       "    </tr>\n",
       "    <tr>\n",
       "      <th>2010-01-06</th>\n",
       "      <td>30.138541</td>\n",
       "      <td>30.770</td>\n",
       "      <td>20.80</td>\n",
       "      <td>132.25</td>\n",
       "      <td>174.26</td>\n",
       "      <td>113.71</td>\n",
       "      <td>1137.14</td>\n",
       "      <td>19.16</td>\n",
       "      <td>1.4412</td>\n",
       "      <td>1138.50</td>\n",
       "      <td>49.34</td>\n",
       "      <td>111.51</td>\n",
       "    </tr>\n",
       "    <tr>\n",
       "      <th>2010-01-07</th>\n",
       "      <td>30.082827</td>\n",
       "      <td>30.452</td>\n",
       "      <td>20.60</td>\n",
       "      <td>130.00</td>\n",
       "      <td>177.67</td>\n",
       "      <td>114.19</td>\n",
       "      <td>1141.69</td>\n",
       "      <td>19.06</td>\n",
       "      <td>1.4318</td>\n",
       "      <td>1131.90</td>\n",
       "      <td>49.10</td>\n",
       "      <td>110.82</td>\n",
       "    </tr>\n",
       "    <tr>\n",
       "      <th>2010-01-08</th>\n",
       "      <td>30.282827</td>\n",
       "      <td>30.660</td>\n",
       "      <td>20.83</td>\n",
       "      <td>133.52</td>\n",
       "      <td>174.31</td>\n",
       "      <td>114.57</td>\n",
       "      <td>1144.98</td>\n",
       "      <td>18.13</td>\n",
       "      <td>1.4412</td>\n",
       "      <td>1136.10</td>\n",
       "      <td>49.84</td>\n",
       "      <td>111.37</td>\n",
       "    </tr>\n",
       "  </tbody>\n",
       "</table>\n",
       "</div>"
      ],
      "text/plain": [
       "               AAPL.O  MSFT.O  INTC.O  AMZN.O    GS.N     SPY     .SPX   .VIX  \\\n",
       "Date                                                                            \n",
       "2010-01-04  30.572827  30.950   20.88  133.90  173.08  113.33  1132.99  20.04   \n",
       "2010-01-05  30.625684  30.960   20.87  134.69  176.14  113.63  1136.52  19.35   \n",
       "2010-01-06  30.138541  30.770   20.80  132.25  174.26  113.71  1137.14  19.16   \n",
       "2010-01-07  30.082827  30.452   20.60  130.00  177.67  114.19  1141.69  19.06   \n",
       "2010-01-08  30.282827  30.660   20.83  133.52  174.31  114.57  1144.98  18.13   \n",
       "\n",
       "              EUR=     XAU=    GDX     GLD  \n",
       "Date                                        \n",
       "2010-01-04  1.4411  1120.00  47.71  109.80  \n",
       "2010-01-05  1.4368  1118.65  48.17  109.70  \n",
       "2010-01-06  1.4412  1138.50  49.34  111.51  \n",
       "2010-01-07  1.4318  1131.90  49.10  110.82  \n",
       "2010-01-08  1.4412  1136.10  49.84  111.37  "
      ]
     },
     "execution_count": 4,
     "metadata": {},
     "output_type": "execute_result"
    }
   ],
   "source": [
    "raw.head()"
   ]
  },
  {
   "cell_type": "code",
   "execution_count": 5,
   "metadata": {},
   "outputs": [
    {
     "data": {
      "image/png": "[encoded data removed]",
      "text/plain": [
       "<matplotlib.figure.Figure at 0x1049e78d0>"
      ]
     },
     "metadata": {},
     "output_type": "display_data"
    }
   ],
   "source": [
    "raw[['AAPL.O', 'MSFT.O']].plot(figsize=(10, 6));"
   ]
  },
  {
   "cell_type": "markdown",
   "metadata": {},
   "source": [
    "## Input-Output"
   ]
  },
  {
   "cell_type": "code",
   "execution_count": 6,
   "metadata": {},
   "outputs": [
    {
     "name": "stdout",
     "output_type": "stream",
     "text": [
      "CPU times: user 69.7 ms, sys: 6.6 ms, total: 76.3 ms\n",
      "Wall time: 88.6 ms\n"
     ]
    }
   ],
   "source": [
    "%time raw.to_csv('data.csv')"
   ]
  },
  {
   "cell_type": "code",
   "execution_count": 7,
   "metadata": {},
   "outputs": [
    {
     "name": "stdout",
     "output_type": "stream",
     "text": [
      "01_bc_day_03.md          \u001b[34m__pycache__\u001b[m\u001b[m/             fxcm_tick_reader.py\r\n",
      "02_financial_data.ipynb  data.csv\r\n",
      "03_backstesting.ipynb    fin_data_api.py\r\n"
     ]
    }
   ],
   "source": [
    "ls"
   ]
  },
  {
   "cell_type": "code",
   "execution_count": 8,
   "metadata": {},
   "outputs": [
    {
     "name": "stdout",
     "output_type": "stream",
     "text": [
      "CPU times: user 1.04 s, sys: 46.4 ms, total: 1.08 s\n",
      "Wall time: 1.09 s\n"
     ]
    }
   ],
   "source": [
    "%time raw.to_excel('data.xlsx')"
   ]
  },
  {
   "cell_type": "code",
   "execution_count": 9,
   "metadata": {},
   "outputs": [
    {
     "name": "stdout",
     "output_type": "stream",
     "text": [
      "-rw-r--r--@ 1 501  20  191772 Nov 23 12:07 data.csv\r\n",
      "-rw-r--r--@ 1 501  20  165033 Nov 23 12:07 data.xlsx\r\n"
     ]
    }
   ],
   "source": [
    "ls -n data*"
   ]
  },
  {
   "cell_type": "code",
   "execution_count": 10,
   "metadata": {},
   "outputs": [
    {
     "name": "stdout",
     "output_type": "stream",
     "text": [
      "CPU times: user 76 ms, sys: 31.2 ms, total: 107 ms\n",
      "Wall time: 147 ms\n"
     ]
    }
   ],
   "source": [
    "%time raw.to_hdf('data.h5', 'raw')"
   ]
  },
  {
   "cell_type": "code",
   "execution_count": 11,
   "metadata": {},
   "outputs": [
    {
     "name": "stdout",
     "output_type": "stream",
     "text": [
      "-rw-r--r--@ 1 501  20  191772 Nov 23 12:07 data.csv\r\n",
      "-rw-r--r--  1 501  20  212280 Nov 23 12:07 data.h5\r\n",
      "-rw-r--r--@ 1 501  20  165033 Nov 23 12:07 data.xlsx\r\n"
     ]
    }
   ],
   "source": [
    "ls -n data*"
   ]
  },
  {
   "cell_type": "code",
   "execution_count": 12,
   "metadata": {},
   "outputs": [],
   "source": [
    "import sqlite3 as sq3"
   ]
  },
  {
   "cell_type": "code",
   "execution_count": 13,
   "metadata": {},
   "outputs": [],
   "source": [
    "con = sq3.Connection('data.sql')"
   ]
  },
  {
   "cell_type": "code",
   "execution_count": 14,
   "metadata": {},
   "outputs": [],
   "source": [
    "raw.to_sql('raw', con)"
   ]
  },
  {
   "cell_type": "code",
   "execution_count": 15,
   "metadata": {},
   "outputs": [
    {
     "data": {
      "text/plain": [
       "[('2010-01-04 00:00:00',\n",
       "  30.57282657,\n",
       "  30.95,\n",
       "  20.88,\n",
       "  133.9,\n",
       "  173.08,\n",
       "  113.33,\n",
       "  1132.99,\n",
       "  20.04,\n",
       "  1.4411,\n",
       "  1120.0,\n",
       "  47.71,\n",
       "  109.8),\n",
       " ('2010-01-05 00:00:00',\n",
       "  30.625683660000004,\n",
       "  30.96,\n",
       "  20.87,\n",
       "  134.69,\n",
       "  176.14,\n",
       "  113.63,\n",
       "  1136.52,\n",
       "  19.35,\n",
       "  1.4368,\n",
       "  1118.65,\n",
       "  48.17,\n",
       "  109.7)]"
      ]
     },
     "execution_count": 15,
     "metadata": {},
     "output_type": "execute_result"
    }
   ],
   "source": [
    "con.execute('SELECT * FROM raw').fetchmany(2)"
   ]
  },
  {
   "cell_type": "code",
   "execution_count": 16,
   "metadata": {},
   "outputs": [
    {
     "data": {
      "text/plain": [
       "[('table',\n",
       "  'raw',\n",
       "  'raw',\n",
       "  2,\n",
       "  'CREATE TABLE \"raw\" (\\n\"Date\" TIMESTAMP,\\n  \"AAPL.O\" REAL,\\n  \"MSFT.O\" REAL,\\n  \"INTC.O\" REAL,\\n  \"AMZN.O\" REAL,\\n  \"GS.N\" REAL,\\n  \"SPY\" REAL,\\n  \".SPX\" REAL,\\n  \".VIX\" REAL,\\n  \"EUR=\" REAL,\\n  \"XAU=\" REAL,\\n  \"GDX\" REAL,\\n  \"GLD\" REAL\\n)'),\n",
       " ('index',\n",
       "  'ix_raw_Date',\n",
       "  'raw',\n",
       "  3,\n",
       "  'CREATE INDEX \"ix_raw_Date\"ON \"raw\" (\"Date\")')]"
      ]
     },
     "execution_count": 16,
     "metadata": {},
     "output_type": "execute_result"
    }
   ],
   "source": [
    "con.execute('SELECT * FROM sqlite_master').fetchall()"
   ]
  },
  {
   "cell_type": "code",
   "execution_count": 17,
   "metadata": {},
   "outputs": [
    {
     "data": {
      "text/plain": [
       "rec.array([ (datetime.datetime(2010, 1, 4, 0, 0),  30.57282657,  30.95,  20.88,  133.9 ,  173.08,  113.33,  1132.99,  20.04,  1.4411,  1120.  ,  47.71,  109.8 ),\n",
       "           (datetime.datetime(2010, 1, 5, 0, 0),  30.62568366,  30.96,  20.87,  134.69,  176.14,  113.63,  1136.52,  19.35,  1.4368,  1118.65,  48.17,  109.7 ),\n",
       "           (datetime.datetime(2010, 1, 6, 0, 0),  30.13854129,  30.77,  20.8 ,  132.25,  174.26,  113.71,  1137.14,  19.16,  1.4412,  1138.5 ,  49.34,  111.51)], \n",
       "          dtype=[('Date', 'O'), ('AAPL.O', '<f8'), ('MSFT.O', '<f8'), ('INTC.O', '<f8'), ('AMZN.O', '<f8'), ('GS.N', '<f8'), ('SPY', '<f8'), ('.SPX', '<f8'), ('.VIX', '<f8'), ('EUR=', '<f8'), ('XAU=', '<f8'), ('GDX', '<f8'), ('GLD', '<f8')])"
      ]
     },
     "execution_count": 17,
     "metadata": {},
     "output_type": "execute_result"
    }
   ],
   "source": [
    "raw.to_records()[:3]"
   ]
  },
  {
   "cell_type": "code",
   "execution_count": 18,
   "metadata": {},
   "outputs": [
    {
     "data": {
      "text/plain": [
       "'{\"AAPL.O\":{\"1262563200000\":30.57282657,\"1262649600000\":30.62568366,\"1262736000000\":30.13854129,\"1262822400000\":30.08282706,\"1262908800000\":30.28282686},\"MSFT.O\":{\"1262563200000\":30.95,\"1262649600000\":30.96,\"1262736000000\":30.77,\"1262822400000\":30.452,\"1262908800000\":30.66},\"INTC.O\":{\"1262563200000\":20.88,\"1262649600000\":20.87,\"1262736000000\":20.8,\"1262822400000\":20.6,\"1262908800000\":20.83},\"AMZN.O\":{\"1262563200000\":133.9,\"1262649600000\":134.69,\"1262736000000\":132.25,\"1262822400000\":130.0,\"1262908800000\":133.52},\"GS.N\":{\"1262563200000\":173.08,\"1262649600000\":176.14,\"1262736000000\":174.26,\"1262822400000\":177.67,\"1262908800000\":174.31},\"SPY\":{\"1262563200000\":113.33,\"1262649600000\":113.63,\"1262736000000\":113.71,\"1262822400000\":114.19,\"1262908800000\":114.57},\".SPX\":{\"1262563200000\":1132.99,\"1262649600000\":1136.52,\"1262736000000\":1137.14,\"1262822400000\":1141.69,\"1262908800000\":1144.98},\".VIX\":{\"1262563200000\":20.04,\"1262649600000\":19.35,\"1262736000000\":19.16,\"1262822400000\":19.06,\"1262908800000\":18.13},\"EUR=\":{\"1262563200000\":1.4411,\"1262649600000\":1.4368,\"1262736000000\":1.4412,\"1262822400000\":1.4318,\"1262908800000\":1.4412},\"XAU=\":{\"1262563200000\":1120.0,\"1262649600000\":1118.65,\"1262736000000\":1138.5,\"1262822400000\":1131.9,\"1262908800000\":1136.1},\"GDX\":{\"1262563200000\":47.71,\"1262649600000\":48.17,\"1262736000000\":49.34,\"1262822400000\":49.1,\"1262908800000\":49.84},\"GLD\":{\"1262563200000\":109.8,\"1262649600000\":109.7,\"1262736000000\":111.51,\"1262822400000\":110.82,\"1262908800000\":111.37}}'"
      ]
     },
     "execution_count": 18,
     "metadata": {},
     "output_type": "execute_result"
    }
   ],
   "source": [
    "raw.iloc[:5].to_json()"
   ]
  },
  {
   "cell_type": "code",
   "execution_count": 19,
   "metadata": {},
   "outputs": [],
   "source": [
    "from_excel = pd.read_excel('data.xlsx', index_col=0)"
   ]
  },
  {
   "cell_type": "code",
   "execution_count": 20,
   "metadata": {},
   "outputs": [
    {
     "data": {
      "text/html": [
       "<div>\n",
       "<style scoped>\n",
       "    .dataframe tbody tr th:only-of-type {\n",
       "        vertical-align: middle;\n",
       "    }\n",
       "\n",
       "    .dataframe tbody tr th {\n",
       "        vertical-align: top;\n",
       "    }\n",
       "\n",
       "    .dataframe thead th {\n",
       "        text-align: right;\n",
       "    }\n",
       "</style>\n",
       "<table border=\"1\" class=\"dataframe\">\n",
       "  <thead>\n",
       "    <tr style=\"text-align: right;\">\n",
       "      <th></th>\n",
       "      <th>AAPL.O</th>\n",
       "      <th>MSFT.O</th>\n",
       "      <th>INTC.O</th>\n",
       "      <th>AMZN.O</th>\n",
       "      <th>GS.N</th>\n",
       "      <th>SPY</th>\n",
       "      <th>.SPX</th>\n",
       "      <th>.VIX</th>\n",
       "      <th>EUR=</th>\n",
       "      <th>XAU=</th>\n",
       "      <th>GDX</th>\n",
       "      <th>GLD</th>\n",
       "    </tr>\n",
       "    <tr>\n",
       "      <th>Date</th>\n",
       "      <th></th>\n",
       "      <th></th>\n",
       "      <th></th>\n",
       "      <th></th>\n",
       "      <th></th>\n",
       "      <th></th>\n",
       "      <th></th>\n",
       "      <th></th>\n",
       "      <th></th>\n",
       "      <th></th>\n",
       "      <th></th>\n",
       "      <th></th>\n",
       "    </tr>\n",
       "  </thead>\n",
       "  <tbody>\n",
       "    <tr>\n",
       "      <th>2010-01-04</th>\n",
       "      <td>30.572827</td>\n",
       "      <td>30.950</td>\n",
       "      <td>20.88</td>\n",
       "      <td>133.90</td>\n",
       "      <td>173.08</td>\n",
       "      <td>113.33</td>\n",
       "      <td>1132.99</td>\n",
       "      <td>20.04</td>\n",
       "      <td>1.4411</td>\n",
       "      <td>1120.00</td>\n",
       "      <td>47.71</td>\n",
       "      <td>109.80</td>\n",
       "    </tr>\n",
       "    <tr>\n",
       "      <th>2010-01-05</th>\n",
       "      <td>30.625684</td>\n",
       "      <td>30.960</td>\n",
       "      <td>20.87</td>\n",
       "      <td>134.69</td>\n",
       "      <td>176.14</td>\n",
       "      <td>113.63</td>\n",
       "      <td>1136.52</td>\n",
       "      <td>19.35</td>\n",
       "      <td>1.4368</td>\n",
       "      <td>1118.65</td>\n",
       "      <td>48.17</td>\n",
       "      <td>109.70</td>\n",
       "    </tr>\n",
       "    <tr>\n",
       "      <th>2010-01-06</th>\n",
       "      <td>30.138541</td>\n",
       "      <td>30.770</td>\n",
       "      <td>20.80</td>\n",
       "      <td>132.25</td>\n",
       "      <td>174.26</td>\n",
       "      <td>113.71</td>\n",
       "      <td>1137.14</td>\n",
       "      <td>19.16</td>\n",
       "      <td>1.4412</td>\n",
       "      <td>1138.50</td>\n",
       "      <td>49.34</td>\n",
       "      <td>111.51</td>\n",
       "    </tr>\n",
       "    <tr>\n",
       "      <th>2010-01-07</th>\n",
       "      <td>30.082827</td>\n",
       "      <td>30.452</td>\n",
       "      <td>20.60</td>\n",
       "      <td>130.00</td>\n",
       "      <td>177.67</td>\n",
       "      <td>114.19</td>\n",
       "      <td>1141.69</td>\n",
       "      <td>19.06</td>\n",
       "      <td>1.4318</td>\n",
       "      <td>1131.90</td>\n",
       "      <td>49.10</td>\n",
       "      <td>110.82</td>\n",
       "    </tr>\n",
       "    <tr>\n",
       "      <th>2010-01-08</th>\n",
       "      <td>30.282827</td>\n",
       "      <td>30.660</td>\n",
       "      <td>20.83</td>\n",
       "      <td>133.52</td>\n",
       "      <td>174.31</td>\n",
       "      <td>114.57</td>\n",
       "      <td>1144.98</td>\n",
       "      <td>18.13</td>\n",
       "      <td>1.4412</td>\n",
       "      <td>1136.10</td>\n",
       "      <td>49.84</td>\n",
       "      <td>111.37</td>\n",
       "    </tr>\n",
       "  </tbody>\n",
       "</table>\n",
       "</div>"
      ],
      "text/plain": [
       "               AAPL.O  MSFT.O  INTC.O  AMZN.O    GS.N     SPY     .SPX   .VIX  \\\n",
       "Date                                                                            \n",
       "2010-01-04  30.572827  30.950   20.88  133.90  173.08  113.33  1132.99  20.04   \n",
       "2010-01-05  30.625684  30.960   20.87  134.69  176.14  113.63  1136.52  19.35   \n",
       "2010-01-06  30.138541  30.770   20.80  132.25  174.26  113.71  1137.14  19.16   \n",
       "2010-01-07  30.082827  30.452   20.60  130.00  177.67  114.19  1141.69  19.06   \n",
       "2010-01-08  30.282827  30.660   20.83  133.52  174.31  114.57  1144.98  18.13   \n",
       "\n",
       "              EUR=     XAU=    GDX     GLD  \n",
       "Date                                        \n",
       "2010-01-04  1.4411  1120.00  47.71  109.80  \n",
       "2010-01-05  1.4368  1118.65  48.17  109.70  \n",
       "2010-01-06  1.4412  1138.50  49.34  111.51  \n",
       "2010-01-07  1.4318  1131.90  49.10  110.82  \n",
       "2010-01-08  1.4412  1136.10  49.84  111.37  "
      ]
     },
     "execution_count": 20,
     "metadata": {},
     "output_type": "execute_result"
    }
   ],
   "source": [
    "from_excel.head()"
   ]
  },
  {
   "cell_type": "code",
   "execution_count": 21,
   "metadata": {},
   "outputs": [],
   "source": [
    "con2 = sq3.Connection('data.sql')"
   ]
  },
  {
   "cell_type": "code",
   "execution_count": 22,
   "metadata": {},
   "outputs": [],
   "source": [
    "from_sql = pd.read_sql('SELECT * FROM raw', con2)"
   ]
  },
  {
   "cell_type": "code",
   "execution_count": 23,
   "metadata": {},
   "outputs": [
    {
     "data": {
      "text/html": [
       "<div>\n",
       "<style scoped>\n",
       "    .dataframe tbody tr th:only-of-type {\n",
       "        vertical-align: middle;\n",
       "    }\n",
       "\n",
       "    .dataframe tbody tr th {\n",
       "        vertical-align: top;\n",
       "    }\n",
       "\n",
       "    .dataframe thead th {\n",
       "        text-align: right;\n",
       "    }\n",
       "</style>\n",
       "<table border=\"1\" class=\"dataframe\">\n",
       "  <thead>\n",
       "    <tr style=\"text-align: right;\">\n",
       "      <th></th>\n",
       "      <th>AAPL.O</th>\n",
       "      <th>MSFT.O</th>\n",
       "      <th>INTC.O</th>\n",
       "      <th>AMZN.O</th>\n",
       "      <th>GS.N</th>\n",
       "      <th>SPY</th>\n",
       "      <th>.SPX</th>\n",
       "      <th>.VIX</th>\n",
       "      <th>EUR=</th>\n",
       "      <th>XAU=</th>\n",
       "      <th>GDX</th>\n",
       "      <th>GLD</th>\n",
       "    </tr>\n",
       "    <tr>\n",
       "      <th>Date</th>\n",
       "      <th></th>\n",
       "      <th></th>\n",
       "      <th></th>\n",
       "      <th></th>\n",
       "      <th></th>\n",
       "      <th></th>\n",
       "      <th></th>\n",
       "      <th></th>\n",
       "      <th></th>\n",
       "      <th></th>\n",
       "      <th></th>\n",
       "      <th></th>\n",
       "    </tr>\n",
       "  </thead>\n",
       "  <tbody>\n",
       "    <tr>\n",
       "      <th>2010-01-04 00:00:00</th>\n",
       "      <td>30.572827</td>\n",
       "      <td>30.950</td>\n",
       "      <td>20.88</td>\n",
       "      <td>133.90</td>\n",
       "      <td>173.08</td>\n",
       "      <td>113.33</td>\n",
       "      <td>1132.99</td>\n",
       "      <td>20.04</td>\n",
       "      <td>1.4411</td>\n",
       "      <td>1120.00</td>\n",
       "      <td>47.71</td>\n",
       "      <td>109.80</td>\n",
       "    </tr>\n",
       "    <tr>\n",
       "      <th>2010-01-05 00:00:00</th>\n",
       "      <td>30.625684</td>\n",
       "      <td>30.960</td>\n",
       "      <td>20.87</td>\n",
       "      <td>134.69</td>\n",
       "      <td>176.14</td>\n",
       "      <td>113.63</td>\n",
       "      <td>1136.52</td>\n",
       "      <td>19.35</td>\n",
       "      <td>1.4368</td>\n",
       "      <td>1118.65</td>\n",
       "      <td>48.17</td>\n",
       "      <td>109.70</td>\n",
       "    </tr>\n",
       "    <tr>\n",
       "      <th>2010-01-06 00:00:00</th>\n",
       "      <td>30.138541</td>\n",
       "      <td>30.770</td>\n",
       "      <td>20.80</td>\n",
       "      <td>132.25</td>\n",
       "      <td>174.26</td>\n",
       "      <td>113.71</td>\n",
       "      <td>1137.14</td>\n",
       "      <td>19.16</td>\n",
       "      <td>1.4412</td>\n",
       "      <td>1138.50</td>\n",
       "      <td>49.34</td>\n",
       "      <td>111.51</td>\n",
       "    </tr>\n",
       "    <tr>\n",
       "      <th>2010-01-07 00:00:00</th>\n",
       "      <td>30.082827</td>\n",
       "      <td>30.452</td>\n",
       "      <td>20.60</td>\n",
       "      <td>130.00</td>\n",
       "      <td>177.67</td>\n",
       "      <td>114.19</td>\n",
       "      <td>1141.69</td>\n",
       "      <td>19.06</td>\n",
       "      <td>1.4318</td>\n",
       "      <td>1131.90</td>\n",
       "      <td>49.10</td>\n",
       "      <td>110.82</td>\n",
       "    </tr>\n",
       "    <tr>\n",
       "      <th>2010-01-08 00:00:00</th>\n",
       "      <td>30.282827</td>\n",
       "      <td>30.660</td>\n",
       "      <td>20.83</td>\n",
       "      <td>133.52</td>\n",
       "      <td>174.31</td>\n",
       "      <td>114.57</td>\n",
       "      <td>1144.98</td>\n",
       "      <td>18.13</td>\n",
       "      <td>1.4412</td>\n",
       "      <td>1136.10</td>\n",
       "      <td>49.84</td>\n",
       "      <td>111.37</td>\n",
       "    </tr>\n",
       "  </tbody>\n",
       "</table>\n",
       "</div>"
      ],
      "text/plain": [
       "                        AAPL.O  MSFT.O  INTC.O  AMZN.O    GS.N     SPY  \\\n",
       "Date                                                                     \n",
       "2010-01-04 00:00:00  30.572827  30.950   20.88  133.90  173.08  113.33   \n",
       "2010-01-05 00:00:00  30.625684  30.960   20.87  134.69  176.14  113.63   \n",
       "2010-01-06 00:00:00  30.138541  30.770   20.80  132.25  174.26  113.71   \n",
       "2010-01-07 00:00:00  30.082827  30.452   20.60  130.00  177.67  114.19   \n",
       "2010-01-08 00:00:00  30.282827  30.660   20.83  133.52  174.31  114.57   \n",
       "\n",
       "                        .SPX   .VIX    EUR=     XAU=    GDX     GLD  \n",
       "Date                                                                 \n",
       "2010-01-04 00:00:00  1132.99  20.04  1.4411  1120.00  47.71  109.80  \n",
       "2010-01-05 00:00:00  1136.52  19.35  1.4368  1118.65  48.17  109.70  \n",
       "2010-01-06 00:00:00  1137.14  19.16  1.4412  1138.50  49.34  111.51  \n",
       "2010-01-07 00:00:00  1141.69  19.06  1.4318  1131.90  49.10  110.82  \n",
       "2010-01-08 00:00:00  1144.98  18.13  1.4412  1136.10  49.84  111.37  "
      ]
     },
     "execution_count": 23,
     "metadata": {},
     "output_type": "execute_result"
    }
   ],
   "source": [
    "from_sql.set_index('Date').head()"
   ]
  },
  {
   "cell_type": "code",
   "execution_count": 24,
   "metadata": {},
   "outputs": [],
   "source": [
    "rm data*"
   ]
  },
  {
   "cell_type": "markdown",
   "metadata": {},
   "source": [
    "## Data API"
   ]
  },
  {
   "cell_type": "code",
   "execution_count": 25,
   "metadata": {},
   "outputs": [],
   "source": [
    "url_templ = \"http://0.0.0.0:7777/?symbols=%s&format=%s&no=%d\""
   ]
  },
  {
   "cell_type": "code",
   "execution_count": 26,
   "metadata": {},
   "outputs": [
    {
     "data": {
      "text/plain": [
       "'http://0.0.0.0:7777/?symbols=AAPL.O&format=csv&no=20'"
      ]
     },
     "execution_count": 26,
     "metadata": {},
     "output_type": "execute_result"
    }
   ],
   "source": [
    "url_templ % ('AAPL.O', 'csv', 20)"
   ]
  },
  {
   "cell_type": "markdown",
   "metadata": {},
   "source": [
    "**CAUTION**: For what follows, the Flask data api (`fin_data_api.py`) needs to be started and running first. In a terminal window and in the \"right\" folder do:\n",
    "\n",
    "    python fin_data_api.py"
   ]
  },
  {
   "cell_type": "code",
   "execution_count": 27,
   "metadata": {},
   "outputs": [],
   "source": [
    "import requests"
   ]
  },
  {
   "cell_type": "code",
   "execution_count": 28,
   "metadata": {},
   "outputs": [
    {
     "name": "stdout",
     "output_type": "stream",
     "text": [
      "Date,AAPL.O,MSFT.O\n",
      "2017-10-25,156.41,78.63\n",
      "2017-10-26,157.41,78.76\n",
      "2017-10-27,163.05,83.81\n",
      "2017-10-30,166.72,83.89\n",
      "2017-10-31,169.04,83.18\n",
      "\n"
     ]
    }
   ],
   "source": [
    "g = requests.get(url_templ % ('AAPL.O,MSFT.O', 'csv', 5)).text\n",
    "print(g)"
   ]
  },
  {
   "cell_type": "code",
   "execution_count": 29,
   "metadata": {},
   "outputs": [],
   "source": [
    "r = pd.read_csv(url_templ % ('AAPL.O,MSFT.O', 'csv', 5),\n",
    "                index_col=0, parse_dates=True)"
   ]
  },
  {
   "cell_type": "code",
   "execution_count": 30,
   "metadata": {
    "scrolled": true
   },
   "outputs": [
    {
     "data": {
      "text/html": [
       "<div>\n",
       "<style scoped>\n",
       "    .dataframe tbody tr th:only-of-type {\n",
       "        vertical-align: middle;\n",
       "    }\n",
       "\n",
       "    .dataframe tbody tr th {\n",
       "        vertical-align: top;\n",
       "    }\n",
       "\n",
       "    .dataframe thead th {\n",
       "        text-align: right;\n",
       "    }\n",
       "</style>\n",
       "<table border=\"1\" class=\"dataframe\">\n",
       "  <thead>\n",
       "    <tr style=\"text-align: right;\">\n",
       "      <th></th>\n",
       "      <th>AAPL.O</th>\n",
       "      <th>MSFT.O</th>\n",
       "    </tr>\n",
       "    <tr>\n",
       "      <th>Date</th>\n",
       "      <th></th>\n",
       "      <th></th>\n",
       "    </tr>\n",
       "  </thead>\n",
       "  <tbody>\n",
       "    <tr>\n",
       "      <th>2017-10-25</th>\n",
       "      <td>156.41</td>\n",
       "      <td>78.63</td>\n",
       "    </tr>\n",
       "    <tr>\n",
       "      <th>2017-10-26</th>\n",
       "      <td>157.41</td>\n",
       "      <td>78.76</td>\n",
       "    </tr>\n",
       "    <tr>\n",
       "      <th>2017-10-27</th>\n",
       "      <td>163.05</td>\n",
       "      <td>83.81</td>\n",
       "    </tr>\n",
       "    <tr>\n",
       "      <th>2017-10-30</th>\n",
       "      <td>166.72</td>\n",
       "      <td>83.89</td>\n",
       "    </tr>\n",
       "    <tr>\n",
       "      <th>2017-10-31</th>\n",
       "      <td>169.04</td>\n",
       "      <td>83.18</td>\n",
       "    </tr>\n",
       "  </tbody>\n",
       "</table>\n",
       "</div>"
      ],
      "text/plain": [
       "            AAPL.O  MSFT.O\n",
       "Date                      \n",
       "2017-10-25  156.41   78.63\n",
       "2017-10-26  157.41   78.76\n",
       "2017-10-27  163.05   83.81\n",
       "2017-10-30  166.72   83.89\n",
       "2017-10-31  169.04   83.18"
      ]
     },
     "execution_count": 30,
     "metadata": {},
     "output_type": "execute_result"
    }
   ],
   "source": [
    "r"
   ]
  },
  {
   "cell_type": "code",
   "execution_count": 31,
   "metadata": {},
   "outputs": [],
   "source": [
    "symbols = ['GLD', 'GDX', 'AAPL.O']"
   ]
  },
  {
   "cell_type": "code",
   "execution_count": 32,
   "metadata": {},
   "outputs": [
    {
     "data": {
      "text/plain": [
       "'GLD,GDX,AAPL.O'"
      ]
     },
     "execution_count": 32,
     "metadata": {},
     "output_type": "execute_result"
    }
   ],
   "source": [
    "','.join(symbols)"
   ]
  },
  {
   "cell_type": "code",
   "execution_count": 33,
   "metadata": {},
   "outputs": [],
   "source": [
    "def get_data(symbols, no):\n",
    "    symbols = ','.join(symbols)\n",
    "    url = url_templ % (symbols, 'csv', no)\n",
    "    print(url)\n",
    "    df = pd.read_csv(url, index_col=0, parse_dates=True)\n",
    "    return df "
   ]
  },
  {
   "cell_type": "code",
   "execution_count": 34,
   "metadata": {},
   "outputs": [
    {
     "name": "stdout",
     "output_type": "stream",
     "text": [
      "http://0.0.0.0:7777/?symbols=GLD,GDX,AAPL.O&format=csv&no=10\n"
     ]
    },
    {
     "data": {
      "text/html": [
       "<div>\n",
       "<style scoped>\n",
       "    .dataframe tbody tr th:only-of-type {\n",
       "        vertical-align: middle;\n",
       "    }\n",
       "\n",
       "    .dataframe tbody tr th {\n",
       "        vertical-align: top;\n",
       "    }\n",
       "\n",
       "    .dataframe thead th {\n",
       "        text-align: right;\n",
       "    }\n",
       "</style>\n",
       "<table border=\"1\" class=\"dataframe\">\n",
       "  <thead>\n",
       "    <tr style=\"text-align: right;\">\n",
       "      <th></th>\n",
       "      <th>GLD</th>\n",
       "      <th>GDX</th>\n",
       "      <th>AAPL.O</th>\n",
       "    </tr>\n",
       "    <tr>\n",
       "      <th>Date</th>\n",
       "      <th></th>\n",
       "      <th></th>\n",
       "      <th></th>\n",
       "    </tr>\n",
       "  </thead>\n",
       "  <tbody>\n",
       "    <tr>\n",
       "      <th>2017-10-18</th>\n",
       "      <td>121.67</td>\n",
       "      <td>23.33</td>\n",
       "      <td>159.76</td>\n",
       "    </tr>\n",
       "    <tr>\n",
       "      <th>2017-10-19</th>\n",
       "      <td>122.39</td>\n",
       "      <td>23.44</td>\n",
       "      <td>155.98</td>\n",
       "    </tr>\n",
       "    <tr>\n",
       "      <th>2017-10-20</th>\n",
       "      <td>121.61</td>\n",
       "      <td>23.23</td>\n",
       "      <td>156.25</td>\n",
       "    </tr>\n",
       "    <tr>\n",
       "      <th>2017-10-23</th>\n",
       "      <td>121.80</td>\n",
       "      <td>23.14</td>\n",
       "      <td>156.17</td>\n",
       "    </tr>\n",
       "    <tr>\n",
       "      <th>2017-10-24</th>\n",
       "      <td>121.33</td>\n",
       "      <td>22.95</td>\n",
       "      <td>157.10</td>\n",
       "    </tr>\n",
       "    <tr>\n",
       "      <th>2017-10-25</th>\n",
       "      <td>121.35</td>\n",
       "      <td>22.83</td>\n",
       "      <td>156.41</td>\n",
       "    </tr>\n",
       "    <tr>\n",
       "      <th>2017-10-26</th>\n",
       "      <td>120.33</td>\n",
       "      <td>22.43</td>\n",
       "      <td>157.41</td>\n",
       "    </tr>\n",
       "    <tr>\n",
       "      <th>2017-10-27</th>\n",
       "      <td>120.90</td>\n",
       "      <td>22.57</td>\n",
       "      <td>163.05</td>\n",
       "    </tr>\n",
       "    <tr>\n",
       "      <th>2017-10-30</th>\n",
       "      <td>121.13</td>\n",
       "      <td>22.76</td>\n",
       "      <td>166.72</td>\n",
       "    </tr>\n",
       "    <tr>\n",
       "      <th>2017-10-31</th>\n",
       "      <td>120.67</td>\n",
       "      <td>22.48</td>\n",
       "      <td>169.04</td>\n",
       "    </tr>\n",
       "  </tbody>\n",
       "</table>\n",
       "</div>"
      ],
      "text/plain": [
       "               GLD    GDX  AAPL.O\n",
       "Date                             \n",
       "2017-10-18  121.67  23.33  159.76\n",
       "2017-10-19  122.39  23.44  155.98\n",
       "2017-10-20  121.61  23.23  156.25\n",
       "2017-10-23  121.80  23.14  156.17\n",
       "2017-10-24  121.33  22.95  157.10\n",
       "2017-10-25  121.35  22.83  156.41\n",
       "2017-10-26  120.33  22.43  157.41\n",
       "2017-10-27  120.90  22.57  163.05\n",
       "2017-10-30  121.13  22.76  166.72\n",
       "2017-10-31  120.67  22.48  169.04"
      ]
     },
     "execution_count": 34,
     "metadata": {},
     "output_type": "execute_result"
    }
   ],
   "source": [
    "get_data(symbols, 10)"
   ]
  },
  {
   "cell_type": "markdown",
   "metadata": {},
   "source": [
    "## Data From Remote Server"
   ]
  },
  {
   "cell_type": "markdown",
   "metadata": {},
   "source": [
    "Only works when a respective app is running on a remote sever:"
   ]
  },
  {
   "cell_type": "code",
   "execution_count": 35,
   "metadata": {},
   "outputs": [],
   "source": [
    "# server IP = http://138.68.179.195/"
   ]
  },
  {
   "cell_type": "code",
   "execution_count": 36,
   "metadata": {},
   "outputs": [],
   "source": [
    "# url_server = \"http://138.68.179.195:7777/?symbols=%s&format=%s&no=%d\""
   ]
  },
  {
   "cell_type": "code",
   "execution_count": 37,
   "metadata": {},
   "outputs": [],
   "source": [
    "def get_data_server(symbols, no):\n",
    "    symbols = ','.join(symbols)\n",
    "    url = url_server % (symbols, 'csv', no)\n",
    "    print(url)\n",
    "    df = pd.read_csv(url, index_col=0, parse_dates=True)\n",
    "    return df "
   ]
  },
  {
   "cell_type": "code",
   "execution_count": 38,
   "metadata": {},
   "outputs": [],
   "source": [
    "# get_data_server(symbols, 10)"
   ]
  },
  {
   "cell_type": "markdown",
   "metadata": {},
   "source": [
    "## Working with Tick Data from FXCM"
   ]
  },
  {
   "cell_type": "code",
   "execution_count": 39,
   "metadata": {},
   "outputs": [],
   "source": [
    "import fxcm_tick_reader as ftr"
   ]
  },
  {
   "cell_type": "code",
   "execution_count": 40,
   "metadata": {},
   "outputs": [
    {
     "data": {
      "text/plain": [
       "('AUDCAD',\n",
       " 'AUDCHF',\n",
       " 'AUDJPY',\n",
       " 'AUDNZD',\n",
       " 'CADCHF',\n",
       " 'EURAUD',\n",
       " 'EURCHF',\n",
       " 'EURGBP',\n",
       " 'EURJPY',\n",
       " 'EURUSD',\n",
       " 'GBPCHF',\n",
       " 'GBPJPY',\n",
       " 'GBPNZD',\n",
       " 'GBPUSD',\n",
       " 'GBPCHF',\n",
       " 'GBPJPY',\n",
       " 'GBPNZD',\n",
       " 'NZDCAD',\n",
       " 'NZDCHF',\n",
       " 'NZDJPY',\n",
       " 'NZDUSD',\n",
       " 'USDCAD',\n",
       " 'USDCHF',\n",
       " 'USDJPY')"
      ]
     },
     "execution_count": 40,
     "metadata": {},
     "output_type": "execute_result"
    }
   ],
   "source": [
    "ftr.fxcm_tick_reader.symbols"
   ]
  },
  {
   "cell_type": "code",
   "execution_count": 41,
   "metadata": {},
   "outputs": [],
   "source": [
    "import datetime as dt"
   ]
  },
  {
   "cell_type": "code",
   "execution_count": 42,
   "metadata": {},
   "outputs": [],
   "source": [
    "start = dt.datetime(2017, 11, 14)\n",
    "end = dt.datetime(2017, 11, 16)"
   ]
  },
  {
   "cell_type": "code",
   "execution_count": 43,
   "metadata": {},
   "outputs": [
    {
     "name": "stdout",
     "output_type": "stream",
     "text": [
      "Fetching data from: https://tickdata.fxcorporate.com/EURUSD/2017/46.csv.gz\n",
      "CPU times: user 2.14 s, sys: 483 ms, total: 2.63 s\n",
      "Wall time: 46.1 s\n"
     ]
    }
   ],
   "source": [
    "%time raw = ftr.fxcm_tick_reader('EURUSD', start, end)"
   ]
  },
  {
   "cell_type": "code",
   "execution_count": 44,
   "metadata": {},
   "outputs": [
    {
     "data": {
      "text/html": [
       "<div>\n",
       "<style scoped>\n",
       "    .dataframe tbody tr th:only-of-type {\n",
       "        vertical-align: middle;\n",
       "    }\n",
       "\n",
       "    .dataframe tbody tr th {\n",
       "        vertical-align: top;\n",
       "    }\n",
       "\n",
       "    .dataframe thead th {\n",
       "        text-align: right;\n",
       "    }\n",
       "</style>\n",
       "<table border=\"1\" class=\"dataframe\">\n",
       "  <thead>\n",
       "    <tr style=\"text-align: right;\">\n",
       "      <th></th>\n",
       "      <th>Bid</th>\n",
       "      <th>Ask</th>\n",
       "    </tr>\n",
       "    <tr>\n",
       "      <th>DateTime</th>\n",
       "      <th></th>\n",
       "      <th></th>\n",
       "    </tr>\n",
       "  </thead>\n",
       "  <tbody>\n",
       "    <tr>\n",
       "      <th>11/12/2017 22:00:00.008</th>\n",
       "      <td>1.16559</td>\n",
       "      <td>1.16603</td>\n",
       "    </tr>\n",
       "    <tr>\n",
       "      <th>11/12/2017 22:00:09.477</th>\n",
       "      <td>1.16559</td>\n",
       "      <td>1.16602</td>\n",
       "    </tr>\n",
       "    <tr>\n",
       "      <th>11/12/2017 22:00:12.590</th>\n",
       "      <td>1.16559</td>\n",
       "      <td>1.16603</td>\n",
       "    </tr>\n",
       "    <tr>\n",
       "      <th>11/12/2017 22:01:06.757</th>\n",
       "      <td>1.16559</td>\n",
       "      <td>1.16601</td>\n",
       "    </tr>\n",
       "    <tr>\n",
       "      <th>11/12/2017 22:01:07.044</th>\n",
       "      <td>1.16559</td>\n",
       "      <td>1.16603</td>\n",
       "    </tr>\n",
       "  </tbody>\n",
       "</table>\n",
       "</div>"
      ],
      "text/plain": [
       "                             Bid      Ask\n",
       "DateTime                                 \n",
       "11/12/2017 22:00:00.008  1.16559  1.16603\n",
       "11/12/2017 22:00:09.477  1.16559  1.16602\n",
       "11/12/2017 22:00:12.590  1.16559  1.16603\n",
       "11/12/2017 22:01:06.757  1.16559  1.16601\n",
       "11/12/2017 22:01:07.044  1.16559  1.16603"
      ]
     },
     "execution_count": 44,
     "metadata": {},
     "output_type": "execute_result"
    }
   ],
   "source": [
    "raw.get_raw_data().head()"
   ]
  },
  {
   "cell_type": "code",
   "execution_count": 45,
   "metadata": {},
   "outputs": [
    {
     "data": {
      "text/html": [
       "<div>\n",
       "<style scoped>\n",
       "    .dataframe tbody tr th:only-of-type {\n",
       "        vertical-align: middle;\n",
       "    }\n",
       "\n",
       "    .dataframe tbody tr th {\n",
       "        vertical-align: top;\n",
       "    }\n",
       "\n",
       "    .dataframe thead th {\n",
       "        text-align: right;\n",
       "    }\n",
       "</style>\n",
       "<table border=\"1\" class=\"dataframe\">\n",
       "  <thead>\n",
       "    <tr style=\"text-align: right;\">\n",
       "      <th></th>\n",
       "      <th>Bid</th>\n",
       "      <th>Ask</th>\n",
       "    </tr>\n",
       "    <tr>\n",
       "      <th>DateTime</th>\n",
       "      <th></th>\n",
       "      <th></th>\n",
       "    </tr>\n",
       "  </thead>\n",
       "  <tbody>\n",
       "    <tr>\n",
       "      <th>11/17/2017 21:58:57.299</th>\n",
       "      <td>1.17866</td>\n",
       "      <td>1.17940</td>\n",
       "    </tr>\n",
       "    <tr>\n",
       "      <th>11/17/2017 21:58:57.339</th>\n",
       "      <td>1.17868</td>\n",
       "      <td>1.17940</td>\n",
       "    </tr>\n",
       "    <tr>\n",
       "      <th>11/17/2017 21:58:57.372</th>\n",
       "      <td>1.17868</td>\n",
       "      <td>1.17946</td>\n",
       "    </tr>\n",
       "    <tr>\n",
       "      <th>11/17/2017 21:59:04.994</th>\n",
       "      <td>1.17870</td>\n",
       "      <td>1.17946</td>\n",
       "    </tr>\n",
       "    <tr>\n",
       "      <th>11/17/2017 21:59:05.967</th>\n",
       "      <td>1.17874</td>\n",
       "      <td>1.17948</td>\n",
       "    </tr>\n",
       "  </tbody>\n",
       "</table>\n",
       "</div>"
      ],
      "text/plain": [
       "                             Bid      Ask\n",
       "DateTime                                 \n",
       "11/17/2017 21:58:57.299  1.17866  1.17940\n",
       "11/17/2017 21:58:57.339  1.17868  1.17940\n",
       "11/17/2017 21:58:57.372  1.17868  1.17946\n",
       "11/17/2017 21:59:04.994  1.17870  1.17946\n",
       "11/17/2017 21:59:05.967  1.17874  1.17948"
      ]
     },
     "execution_count": 45,
     "metadata": {},
     "output_type": "execute_result"
    }
   ],
   "source": [
    "raw.get_raw_data().tail()"
   ]
  },
  {
   "cell_type": "code",
   "execution_count": 46,
   "metadata": {},
   "outputs": [
    {
     "name": "stdout",
     "output_type": "stream",
     "text": [
      "<class 'pandas.core.frame.DataFrame'>\n",
      "Index: 999666 entries, 11/12/2017 22:00:00.008 to 11/17/2017 21:59:05.967\n",
      "Data columns (total 2 columns):\n",
      "Bid    999666 non-null float64\n",
      "Ask    999666 non-null float64\n",
      "dtypes: float64(2)\n",
      "memory usage: 22.9+ MB\n"
     ]
    }
   ],
   "source": [
    "raw.get_raw_data().info()"
   ]
  },
  {
   "cell_type": "code",
   "execution_count": 47,
   "metadata": {},
   "outputs": [
    {
     "name": "stdout",
     "output_type": "stream",
     "text": [
      "CPU times: user 4.3 s, sys: 62.5 ms, total: 4.37 s\n",
      "Wall time: 4.44 s\n"
     ]
    }
   ],
   "source": [
    "%time data = raw.get_data()"
   ]
  },
  {
   "cell_type": "code",
   "execution_count": 48,
   "metadata": {},
   "outputs": [
    {
     "data": {
      "text/html": [
       "<div>\n",
       "<style scoped>\n",
       "    .dataframe tbody tr th:only-of-type {\n",
       "        vertical-align: middle;\n",
       "    }\n",
       "\n",
       "    .dataframe tbody tr th {\n",
       "        vertical-align: top;\n",
       "    }\n",
       "\n",
       "    .dataframe thead th {\n",
       "        text-align: right;\n",
       "    }\n",
       "</style>\n",
       "<table border=\"1\" class=\"dataframe\">\n",
       "  <thead>\n",
       "    <tr style=\"text-align: right;\">\n",
       "      <th></th>\n",
       "      <th>Bid</th>\n",
       "      <th>Ask</th>\n",
       "    </tr>\n",
       "  </thead>\n",
       "  <tbody>\n",
       "    <tr>\n",
       "      <th>2017-11-15 14:00:00.004</th>\n",
       "      <td>1.18446</td>\n",
       "      <td>1.18448</td>\n",
       "    </tr>\n",
       "    <tr>\n",
       "      <th>2017-11-15 14:00:00.035</th>\n",
       "      <td>1.18446</td>\n",
       "      <td>1.18447</td>\n",
       "    </tr>\n",
       "    <tr>\n",
       "      <th>2017-11-15 14:00:00.045</th>\n",
       "      <td>1.18447</td>\n",
       "      <td>1.18448</td>\n",
       "    </tr>\n",
       "    <tr>\n",
       "      <th>2017-11-15 14:00:00.052</th>\n",
       "      <td>1.18448</td>\n",
       "      <td>1.18448</td>\n",
       "    </tr>\n",
       "    <tr>\n",
       "      <th>2017-11-15 14:00:00.058</th>\n",
       "      <td>1.18447</td>\n",
       "      <td>1.18448</td>\n",
       "    </tr>\n",
       "    <tr>\n",
       "      <th>2017-11-15 14:00:00.079</th>\n",
       "      <td>1.18448</td>\n",
       "      <td>1.18448</td>\n",
       "    </tr>\n",
       "    <tr>\n",
       "      <th>2017-11-15 14:00:00.084</th>\n",
       "      <td>1.18447</td>\n",
       "      <td>1.18449</td>\n",
       "    </tr>\n",
       "    <tr>\n",
       "      <th>2017-11-15 14:00:00.090</th>\n",
       "      <td>1.18447</td>\n",
       "      <td>1.18448</td>\n",
       "    </tr>\n",
       "    <tr>\n",
       "      <th>2017-11-15 14:00:00.104</th>\n",
       "      <td>1.18447</td>\n",
       "      <td>1.18446</td>\n",
       "    </tr>\n",
       "    <tr>\n",
       "      <th>2017-11-15 14:00:00.110</th>\n",
       "      <td>1.18446</td>\n",
       "      <td>1.18446</td>\n",
       "    </tr>\n",
       "    <tr>\n",
       "      <th>2017-11-15 14:00:00.170</th>\n",
       "      <td>1.18446</td>\n",
       "      <td>1.18447</td>\n",
       "    </tr>\n",
       "    <tr>\n",
       "      <th>2017-11-15 14:00:00.209</th>\n",
       "      <td>1.18446</td>\n",
       "      <td>1.18446</td>\n",
       "    </tr>\n",
       "    <tr>\n",
       "      <th>2017-11-15 14:00:00.234</th>\n",
       "      <td>1.18444</td>\n",
       "      <td>1.18446</td>\n",
       "    </tr>\n",
       "    <tr>\n",
       "      <th>2017-11-15 14:00:00.304</th>\n",
       "      <td>1.18444</td>\n",
       "      <td>1.18445</td>\n",
       "    </tr>\n",
       "    <tr>\n",
       "      <th>2017-11-15 14:00:00.309</th>\n",
       "      <td>1.18445</td>\n",
       "      <td>1.18445</td>\n",
       "    </tr>\n",
       "    <tr>\n",
       "      <th>2017-11-15 14:00:00.311</th>\n",
       "      <td>1.18446</td>\n",
       "      <td>1.18445</td>\n",
       "    </tr>\n",
       "    <tr>\n",
       "      <th>2017-11-15 14:00:00.365</th>\n",
       "      <td>1.18447</td>\n",
       "      <td>1.18445</td>\n",
       "    </tr>\n",
       "    <tr>\n",
       "      <th>2017-11-15 14:00:00.376</th>\n",
       "      <td>1.18447</td>\n",
       "      <td>1.18447</td>\n",
       "    </tr>\n",
       "    <tr>\n",
       "      <th>2017-11-15 14:00:00.412</th>\n",
       "      <td>1.18447</td>\n",
       "      <td>1.18446</td>\n",
       "    </tr>\n",
       "    <tr>\n",
       "      <th>2017-11-15 14:00:00.480</th>\n",
       "      <td>1.18446</td>\n",
       "      <td>1.18446</td>\n",
       "    </tr>\n",
       "    <tr>\n",
       "      <th>2017-11-15 14:00:00.517</th>\n",
       "      <td>1.18446</td>\n",
       "      <td>1.18445</td>\n",
       "    </tr>\n",
       "    <tr>\n",
       "      <th>2017-11-15 14:00:00.522</th>\n",
       "      <td>1.18444</td>\n",
       "      <td>1.18445</td>\n",
       "    </tr>\n",
       "    <tr>\n",
       "      <th>2017-11-15 14:00:00.583</th>\n",
       "      <td>1.18444</td>\n",
       "      <td>1.18444</td>\n",
       "    </tr>\n",
       "    <tr>\n",
       "      <th>2017-11-15 14:00:00.785</th>\n",
       "      <td>1.18444</td>\n",
       "      <td>1.18443</td>\n",
       "    </tr>\n",
       "    <tr>\n",
       "      <th>2017-11-15 14:00:00.791</th>\n",
       "      <td>1.18444</td>\n",
       "      <td>1.18441</td>\n",
       "    </tr>\n",
       "    <tr>\n",
       "      <th>2017-11-15 14:00:00.794</th>\n",
       "      <td>1.18444</td>\n",
       "      <td>1.18439</td>\n",
       "    </tr>\n",
       "    <tr>\n",
       "      <th>2017-11-15 14:00:00.802</th>\n",
       "      <td>1.18441</td>\n",
       "      <td>1.18437</td>\n",
       "    </tr>\n",
       "    <tr>\n",
       "      <th>2017-11-15 14:00:00.805</th>\n",
       "      <td>1.18441</td>\n",
       "      <td>1.18439</td>\n",
       "    </tr>\n",
       "    <tr>\n",
       "      <th>2017-11-15 14:00:00.807</th>\n",
       "      <td>1.18441</td>\n",
       "      <td>1.18438</td>\n",
       "    </tr>\n",
       "    <tr>\n",
       "      <th>2017-11-15 14:00:00.816</th>\n",
       "      <td>1.18441</td>\n",
       "      <td>1.18437</td>\n",
       "    </tr>\n",
       "    <tr>\n",
       "      <th>...</th>\n",
       "      <td>...</td>\n",
       "      <td>...</td>\n",
       "    </tr>\n",
       "    <tr>\n",
       "      <th>2017-11-15 14:00:02.632</th>\n",
       "      <td>1.18420</td>\n",
       "      <td>1.18420</td>\n",
       "    </tr>\n",
       "    <tr>\n",
       "      <th>2017-11-15 14:00:02.980</th>\n",
       "      <td>1.18420</td>\n",
       "      <td>1.18419</td>\n",
       "    </tr>\n",
       "    <tr>\n",
       "      <th>2017-11-15 14:00:03.075</th>\n",
       "      <td>1.18420</td>\n",
       "      <td>1.18418</td>\n",
       "    </tr>\n",
       "    <tr>\n",
       "      <th>2017-11-15 14:00:03.078</th>\n",
       "      <td>1.18418</td>\n",
       "      <td>1.18418</td>\n",
       "    </tr>\n",
       "    <tr>\n",
       "      <th>2017-11-15 14:00:03.080</th>\n",
       "      <td>1.18418</td>\n",
       "      <td>1.18419</td>\n",
       "    </tr>\n",
       "    <tr>\n",
       "      <th>2017-11-15 14:00:03.082</th>\n",
       "      <td>1.18418</td>\n",
       "      <td>1.18418</td>\n",
       "    </tr>\n",
       "    <tr>\n",
       "      <th>2017-11-15 14:00:03.084</th>\n",
       "      <td>1.18418</td>\n",
       "      <td>1.18419</td>\n",
       "    </tr>\n",
       "    <tr>\n",
       "      <th>2017-11-15 14:00:03.086</th>\n",
       "      <td>1.18418</td>\n",
       "      <td>1.18418</td>\n",
       "    </tr>\n",
       "    <tr>\n",
       "      <th>2017-11-15 14:00:03.190</th>\n",
       "      <td>1.18418</td>\n",
       "      <td>1.18419</td>\n",
       "    </tr>\n",
       "    <tr>\n",
       "      <th>2017-11-15 14:00:03.192</th>\n",
       "      <td>1.18418</td>\n",
       "      <td>1.18418</td>\n",
       "    </tr>\n",
       "    <tr>\n",
       "      <th>2017-11-15 14:00:03.194</th>\n",
       "      <td>1.18419</td>\n",
       "      <td>1.18418</td>\n",
       "    </tr>\n",
       "    <tr>\n",
       "      <th>2017-11-15 14:00:03.196</th>\n",
       "      <td>1.18420</td>\n",
       "      <td>1.18418</td>\n",
       "    </tr>\n",
       "    <tr>\n",
       "      <th>2017-11-15 14:00:03.198</th>\n",
       "      <td>1.18419</td>\n",
       "      <td>1.18418</td>\n",
       "    </tr>\n",
       "    <tr>\n",
       "      <th>2017-11-15 14:00:03.200</th>\n",
       "      <td>1.18420</td>\n",
       "      <td>1.18418</td>\n",
       "    </tr>\n",
       "    <tr>\n",
       "      <th>2017-11-15 14:00:03.202</th>\n",
       "      <td>1.18420</td>\n",
       "      <td>1.18419</td>\n",
       "    </tr>\n",
       "    <tr>\n",
       "      <th>2017-11-15 14:00:03.204</th>\n",
       "      <td>1.18420</td>\n",
       "      <td>1.18420</td>\n",
       "    </tr>\n",
       "    <tr>\n",
       "      <th>2017-11-15 14:00:03.475</th>\n",
       "      <td>1.18419</td>\n",
       "      <td>1.18420</td>\n",
       "    </tr>\n",
       "    <tr>\n",
       "      <th>2017-11-15 14:00:03.504</th>\n",
       "      <td>1.18418</td>\n",
       "      <td>1.18420</td>\n",
       "    </tr>\n",
       "    <tr>\n",
       "      <th>2017-11-15 14:00:03.526</th>\n",
       "      <td>1.18418</td>\n",
       "      <td>1.18419</td>\n",
       "    </tr>\n",
       "    <tr>\n",
       "      <th>2017-11-15 14:00:03.606</th>\n",
       "      <td>1.18417</td>\n",
       "      <td>1.18419</td>\n",
       "    </tr>\n",
       "    <tr>\n",
       "      <th>2017-11-15 14:00:03.612</th>\n",
       "      <td>1.18417</td>\n",
       "      <td>1.18418</td>\n",
       "    </tr>\n",
       "    <tr>\n",
       "      <th>2017-11-15 14:00:03.719</th>\n",
       "      <td>1.18416</td>\n",
       "      <td>1.18418</td>\n",
       "    </tr>\n",
       "    <tr>\n",
       "      <th>2017-11-15 14:00:03.842</th>\n",
       "      <td>1.18417</td>\n",
       "      <td>1.18418</td>\n",
       "    </tr>\n",
       "    <tr>\n",
       "      <th>2017-11-15 14:00:03.856</th>\n",
       "      <td>1.18418</td>\n",
       "      <td>1.18418</td>\n",
       "    </tr>\n",
       "    <tr>\n",
       "      <th>2017-11-15 14:00:03.862</th>\n",
       "      <td>1.18419</td>\n",
       "      <td>1.18419</td>\n",
       "    </tr>\n",
       "    <tr>\n",
       "      <th>2017-11-15 14:00:03.877</th>\n",
       "      <td>1.18420</td>\n",
       "      <td>1.18419</td>\n",
       "    </tr>\n",
       "    <tr>\n",
       "      <th>2017-11-15 14:00:03.896</th>\n",
       "      <td>1.18421</td>\n",
       "      <td>1.18419</td>\n",
       "    </tr>\n",
       "    <tr>\n",
       "      <th>2017-11-15 14:00:03.903</th>\n",
       "      <td>1.18420</td>\n",
       "      <td>1.18419</td>\n",
       "    </tr>\n",
       "    <tr>\n",
       "      <th>2017-11-15 14:00:03.906</th>\n",
       "      <td>1.18421</td>\n",
       "      <td>1.18420</td>\n",
       "    </tr>\n",
       "    <tr>\n",
       "      <th>2017-11-15 14:00:03.972</th>\n",
       "      <td>1.18422</td>\n",
       "      <td>1.18420</td>\n",
       "    </tr>\n",
       "  </tbody>\n",
       "</table>\n",
       "<p>109 rows × 2 columns</p>\n",
       "</div>"
      ],
      "text/plain": [
       "                             Bid      Ask\n",
       "2017-11-15 14:00:00.004  1.18446  1.18448\n",
       "2017-11-15 14:00:00.035  1.18446  1.18447\n",
       "2017-11-15 14:00:00.045  1.18447  1.18448\n",
       "2017-11-15 14:00:00.052  1.18448  1.18448\n",
       "2017-11-15 14:00:00.058  1.18447  1.18448\n",
       "2017-11-15 14:00:00.079  1.18448  1.18448\n",
       "2017-11-15 14:00:00.084  1.18447  1.18449\n",
       "2017-11-15 14:00:00.090  1.18447  1.18448\n",
       "2017-11-15 14:00:00.104  1.18447  1.18446\n",
       "2017-11-15 14:00:00.110  1.18446  1.18446\n",
       "2017-11-15 14:00:00.170  1.18446  1.18447\n",
       "2017-11-15 14:00:00.209  1.18446  1.18446\n",
       "2017-11-15 14:00:00.234  1.18444  1.18446\n",
       "2017-11-15 14:00:00.304  1.18444  1.18445\n",
       "2017-11-15 14:00:00.309  1.18445  1.18445\n",
       "2017-11-15 14:00:00.311  1.18446  1.18445\n",
       "2017-11-15 14:00:00.365  1.18447  1.18445\n",
       "2017-11-15 14:00:00.376  1.18447  1.18447\n",
       "2017-11-15 14:00:00.412  1.18447  1.18446\n",
       "2017-11-15 14:00:00.480  1.18446  1.18446\n",
       "2017-11-15 14:00:00.517  1.18446  1.18445\n",
       "2017-11-15 14:00:00.522  1.18444  1.18445\n",
       "2017-11-15 14:00:00.583  1.18444  1.18444\n",
       "2017-11-15 14:00:00.785  1.18444  1.18443\n",
       "2017-11-15 14:00:00.791  1.18444  1.18441\n",
       "2017-11-15 14:00:00.794  1.18444  1.18439\n",
       "2017-11-15 14:00:00.802  1.18441  1.18437\n",
       "2017-11-15 14:00:00.805  1.18441  1.18439\n",
       "2017-11-15 14:00:00.807  1.18441  1.18438\n",
       "2017-11-15 14:00:00.816  1.18441  1.18437\n",
       "...                          ...      ...\n",
       "2017-11-15 14:00:02.632  1.18420  1.18420\n",
       "2017-11-15 14:00:02.980  1.18420  1.18419\n",
       "2017-11-15 14:00:03.075  1.18420  1.18418\n",
       "2017-11-15 14:00:03.078  1.18418  1.18418\n",
       "2017-11-15 14:00:03.080  1.18418  1.18419\n",
       "2017-11-15 14:00:03.082  1.18418  1.18418\n",
       "2017-11-15 14:00:03.084  1.18418  1.18419\n",
       "2017-11-15 14:00:03.086  1.18418  1.18418\n",
       "2017-11-15 14:00:03.190  1.18418  1.18419\n",
       "2017-11-15 14:00:03.192  1.18418  1.18418\n",
       "2017-11-15 14:00:03.194  1.18419  1.18418\n",
       "2017-11-15 14:00:03.196  1.18420  1.18418\n",
       "2017-11-15 14:00:03.198  1.18419  1.18418\n",
       "2017-11-15 14:00:03.200  1.18420  1.18418\n",
       "2017-11-15 14:00:03.202  1.18420  1.18419\n",
       "2017-11-15 14:00:03.204  1.18420  1.18420\n",
       "2017-11-15 14:00:03.475  1.18419  1.18420\n",
       "2017-11-15 14:00:03.504  1.18418  1.18420\n",
       "2017-11-15 14:00:03.526  1.18418  1.18419\n",
       "2017-11-15 14:00:03.606  1.18417  1.18419\n",
       "2017-11-15 14:00:03.612  1.18417  1.18418\n",
       "2017-11-15 14:00:03.719  1.18416  1.18418\n",
       "2017-11-15 14:00:03.842  1.18417  1.18418\n",
       "2017-11-15 14:00:03.856  1.18418  1.18418\n",
       "2017-11-15 14:00:03.862  1.18419  1.18419\n",
       "2017-11-15 14:00:03.877  1.18420  1.18419\n",
       "2017-11-15 14:00:03.896  1.18421  1.18419\n",
       "2017-11-15 14:00:03.903  1.18420  1.18419\n",
       "2017-11-15 14:00:03.906  1.18421  1.18420\n",
       "2017-11-15 14:00:03.972  1.18422  1.18420\n",
       "\n",
       "[109 rows x 2 columns]"
      ]
     },
     "execution_count": 48,
     "metadata": {},
     "output_type": "execute_result"
    }
   ],
   "source": [
    "data.loc['2017-11-15 14:00:00':'2017-11-15 14:00:03']"
   ]
  },
  {
   "cell_type": "code",
   "execution_count": 49,
   "metadata": {},
   "outputs": [],
   "source": [
    "resam = data.resample('1min', label='right').last()"
   ]
  },
  {
   "cell_type": "code",
   "execution_count": 50,
   "metadata": {},
   "outputs": [
    {
     "name": "stdout",
     "output_type": "stream",
     "text": [
      "<class 'pandas.core.frame.DataFrame'>\n",
      "DatetimeIndex: 7200 entries, 2017-11-12 22:01:00 to 2017-11-17 22:00:00\n",
      "Freq: T\n",
      "Data columns (total 2 columns):\n",
      "Bid    7171 non-null float64\n",
      "Ask    7171 non-null float64\n",
      "dtypes: float64(2)\n",
      "memory usage: 168.8 KB\n"
     ]
    }
   ],
   "source": [
    "resam.info()"
   ]
  },
  {
   "cell_type": "markdown",
   "metadata": {},
   "source": [
    "<img src='http://hilpisch.com/tpq_logo.png' width=\"300px\" align=\"right\">"
   ]
  }
 ],
 "metadata": {
  "kernelspec": {
   "display_name": "Python 3",
   "language": "python",
   "name": "python3"
  },
  "language_info": {
   "codemirror_mode": {
    "name": "ipython",
    "version": 3
   },
   "file_extension": ".py",
   "mimetype": "text/x-python",
   "name": "python",
   "nbconvert_exporter": "python",
   "pygments_lexer": "ipython3",
   "version": "3.6.3"
  }
 },
 "nbformat": 4,
 "nbformat_minor": 2
}
